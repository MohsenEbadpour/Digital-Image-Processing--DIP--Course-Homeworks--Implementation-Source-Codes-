{
 "cells": [
  {
   "cell_type": "code",
   "execution_count": null,
   "metadata": {},
   "outputs": [],
   "source": [
    "import glob\n",
    "import cv2 \n",
    "import matplotlib\n",
    "import matplotlib.pyplot as plt\n",
    "import seaborn as sns\n",
    "import numpy as np \n",
    "import imutils\n",
    "import copy\n",
    "from scipy.ndimage.filters import  gaussian_filter\n",
    "import math\n",
    "import skimage.transform as sktr\n"
   ]
  },
  {
   "cell_type": "markdown",
   "metadata": {},
   "source": [
    "### Loading image"
   ]
  },
  {
   "cell_type": "code",
   "execution_count": null,
   "metadata": {},
   "outputs": [],
   "source": [
    "paths = [file for file in glob.glob('./inputs/P3/*.png')]\n",
    "images = []\n",
    "for path in paths:\n",
    "    img = cv2.imread(path)\n",
    "    images.append(img)\n",
    "    "
   ]
  },
  {
   "cell_type": "markdown",
   "metadata": {},
   "source": [
    "### Fourier"
   ]
  },
  {
   "cell_type": "code",
   "execution_count": null,
   "metadata": {},
   "outputs": [],
   "source": [
    "def get_fourier(img):\n",
    "    img = img.copy()\n",
    "    img_dft = cv2.dft(np.float32(img),flags=cv2.DFT_COMPLEX_OUTPUT)\n",
    "    dft_shift = np.fft.fftshift(img_dft)\n",
    "    magnitude, angle = cv2.cartToPolar(dft_shift[:, :, 0],dft_shift[:, :, 1])\n",
    "    magnitude = np.log(magnitude)\n",
    "    return magnitude, angle"
   ]
  },
  {
   "cell_type": "code",
   "execution_count": null,
   "metadata": {},
   "outputs": [],
   "source": [
    "I = 1\n",
    "plt.rcParams['figure.figsize'] = [16, 16]\n",
    "\n",
    "\n",
    "for index in range(len(images)):\n",
    "    img = images[index]\n",
    "    I = 1\n",
    "    for ch in range(3):\n",
    "        plt.subplot(3,4,I)   \n",
    "        I += 1\n",
    "        plt.imshow(img[:,:,::-1])\n",
    "        plt.axis(\"off\")\n",
    "        plt.title(\"Image #{0}\".format(index+1))\n",
    "\n",
    "\n",
    "\n",
    "        plt.subplot(3,4,I)   \n",
    "        I += 1\n",
    "        plt.imshow(img[:,:,ch],cmap=\"gray\")\n",
    "        plt.axis(\"off\")\n",
    "        plt.title(\"Channel #{0}\".format(ch+1))\n",
    "\n",
    "        m,a = get_fourier(img[:,:,ch])\n",
    "\n",
    "        plt.subplot(3,4,I)   \n",
    "        I += 1\n",
    "        plt.imshow(m,cmap=\"gray\")\n",
    "        plt.axis(\"off\")\n",
    "        plt.title(\"Magnitude\")\n",
    "\n",
    "        plt.subplot(3,4,I)   \n",
    "        I += 1\n",
    "        plt.imshow(a,cmap=\"gray\")\n",
    "        plt.axis(\"off\")\n",
    "        plt.title(\"Phase\")\n",
    "    \n",
    "        \n",
    "    plt.tight_layout()\n",
    "    plt.show()"
   ]
  },
  {
   "cell_type": "code",
   "execution_count": null,
   "metadata": {},
   "outputs": [],
   "source": []
  }
 ],
 "metadata": {
  "interpreter": {
   "hash": "de57e28909dfb2671530bae44b33e2be109b3d90a9cd64e4fc6cd39e7a53a3db"
  },
  "kernelspec": {
   "display_name": "Python 3",
   "language": "python",
   "name": "python3"
  },
  "language_info": {
   "codemirror_mode": {
    "name": "ipython",
    "version": 3
   },
   "file_extension": ".py",
   "mimetype": "text/x-python",
   "name": "python",
   "nbconvert_exporter": "python",
   "pygments_lexer": "ipython3",
   "version": "3.8.2"
  }
 },
 "nbformat": 4,
 "nbformat_minor": 2
}

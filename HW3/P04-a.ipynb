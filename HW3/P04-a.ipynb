{
 "cells": [
  {
   "cell_type": "code",
   "execution_count": null,
   "metadata": {},
   "outputs": [],
   "source": [
    "import glob\n",
    "import cv2 \n",
    "import matplotlib\n",
    "import matplotlib.pyplot as plt\n",
    "import seaborn as sns\n",
    "import numpy as np \n",
    "import imutils\n",
    "import copy\n",
    "from scipy.ndimage.filters import  gaussian_filter\n",
    "import math\n",
    "import skimage.transform as sktr\n"
   ]
  },
  {
   "cell_type": "markdown",
   "metadata": {},
   "source": [
    "### Loading images"
   ]
  },
  {
   "cell_type": "code",
   "execution_count": null,
   "metadata": {},
   "outputs": [],
   "source": [
    "paths = [file for file in glob.glob('./inputs/P4/a/*.png')]\n",
    "images = []\n",
    "for path in paths:\n",
    "    img = cv2.imread(path)\n",
    "    images.append(img)\n",
    "    "
   ]
  },
  {
   "cell_type": "markdown",
   "metadata": {},
   "source": [
    "### Fourier"
   ]
  },
  {
   "cell_type": "code",
   "execution_count": null,
   "metadata": {},
   "outputs": [],
   "source": [
    "def get_fourier(img):\n",
    "    img = img.copy()\n",
    "    img_dft = cv2.dft(np.float32(img),flags=cv2.DFT_COMPLEX_OUTPUT)\n",
    "    dft_shift = np.fft.fftshift(img_dft)\n",
    "    magnitude, angle = cv2.cartToPolar(dft_shift[:, :, 0],dft_shift[:, :, 1])\n",
    "    magnitude = np.log(magnitude)\n",
    "    \n",
    "    return magnitude, angle"
   ]
  },
  {
   "cell_type": "code",
   "execution_count": null,
   "metadata": {},
   "outputs": [],
   "source": [
    "Codes = [cv2.COLOR_BGR2HSV,cv2.COLOR_BGR2YCrCb,cv2.COLOR_BGR2YUV,cv2.COLOR_BGR2LAB,cv2.COLOR_BGR2RGB]\n",
    "tags = [\"HSV\" , \"YCrCb\" , \"YUV\",\"LAB\",\"RGB\"]\n",
    "plt.rcParams['figure.figsize'] = [8, 10]\n",
    "\n",
    "for Index in range(3) :\n",
    "    for i in range(5):\n",
    "        img_tmp = cv2.cvtColor(images[Index],Codes[i])\n",
    "        \n",
    "        I = 1 \n",
    "        for j in range(3):\n",
    "            plt.subplot(3,2,I)\n",
    "            I += 1\n",
    "            plt.imshow(img_tmp[:,:,j],cmap=\"gray\")\n",
    "            plt.title(\"{2} | {0} Channel #{1}\".format(tags[i],j+1,list(paths[Index].split(\"\\\\\"))[-1]))\n",
    "            plt.axis(\"off\")\n",
    "            \n",
    "            plt.subplot(3,2,I)\n",
    "            I += 1\n",
    "            m,_ =get_fourier(img_tmp[:,:,j])\n",
    "            plt.imshow(m,cmap=\"gray\")\n",
    "            plt.title(\"{0} Channel #{1} (magnitude)\".format(tags[i],j+1))\n",
    "            plt.axis(\"off\")\n",
    "            \n",
    "        plt.tight_layout()\n",
    "        plt.show()\n",
    "        \n",
    "\n",
    "    "
   ]
  },
  {
   "cell_type": "code",
   "execution_count": null,
   "metadata": {},
   "outputs": [],
   "source": []
  }
 ],
 "metadata": {
  "interpreter": {
   "hash": "de57e28909dfb2671530bae44b33e2be109b3d90a9cd64e4fc6cd39e7a53a3db"
  },
  "kernelspec": {
   "display_name": "Python 3",
   "language": "python",
   "name": "python3"
  },
  "language_info": {
   "codemirror_mode": {
    "name": "ipython",
    "version": 3
   },
   "file_extension": ".py",
   "mimetype": "text/x-python",
   "name": "python",
   "nbconvert_exporter": "python",
   "pygments_lexer": "ipython3",
   "version": "3.8.2"
  }
 },
 "nbformat": 4,
 "nbformat_minor": 2
}

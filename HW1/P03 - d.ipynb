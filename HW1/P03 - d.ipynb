{
 "cells": [
  {
   "cell_type": "code",
   "execution_count": 15,
   "metadata": {},
   "outputs": [],
   "source": [
    "import numpy as np \n",
    "import matplotlib.pyplot as plt\n",
    "import seaborn as sns\n",
    "import cv2\n",
    "import glob\n",
    "import math\n",
    "import os"
   ]
  },
  {
   "cell_type": "code",
   "execution_count": 16,
   "metadata": {},
   "outputs": [],
   "source": [
    "# Loading images\n",
    "img_2003 = cv2.imread(\"./inputs/P3/furtwangler_glacier_2003.jpg\")\n",
    "img_2017 = cv2.imread(\"./inputs/P3/furtwangler_glacier_2017.jpg\")"
   ]
  },
  {
   "cell_type": "code",
   "execution_count": 17,
   "metadata": {},
   "outputs": [],
   "source": [
    "_THRESH = 180\n",
    "# make a threshold to all 3 channels on 2003 image\n",
    "img_2003_thresh = img_2003.copy()\n",
    "_, img_2003_thresh[:,:,0] = cv2.threshold(img_2003[:,:,0], _THRESH, 255, cv2.THRESH_BINARY)\n",
    "_, img_2003_thresh[:,:,1] = cv2.threshold(img_2003[:,:,1], _THRESH, 255, cv2.THRESH_BINARY)\n",
    "_, img_2003_thresh[:,:,2] = cv2.threshold(img_2003[:,:,2], _THRESH, 255, cv2.THRESH_BINARY)\n",
    "\n",
    "# make a threshold to all 3 channels on 2017 image\n",
    "img_2017_thresh = img_2017.copy()\n",
    "_, img_2017_thresh[:,:,0] = cv2.threshold(img_2017[:,:,0], _THRESH, 255, cv2.THRESH_BINARY)\n",
    "_, img_2017_thresh[:,:,1] = cv2.threshold(img_2017[:,:,1], _THRESH, 255, cv2.THRESH_BINARY)\n",
    "_, img_2017_thresh[:,:,2] = cv2.threshold(img_2017[:,:,2], _THRESH, 255, cv2.THRESH_BINARY)\n"
   ]
  },
  {
   "cell_type": "code",
   "execution_count": 18,
   "metadata": {},
   "outputs": [],
   "source": [
    "# calculate '&' opreator on tipple channels then make it ready to \n",
    "tmp_2003 = cv2.bitwise_and(img_2003_thresh[:,:,0],img_2003_thresh[:,:,1])\n",
    "tmp_2003 = cv2.bitwise_and(img_2003_thresh[:,:,2],tmp_2003)\n",
    "tmp_2003 = cv2.cvtColor(tmp_2003,cv2.COLOR_GRAY2BGR)\n",
    "\n",
    "tmp_2017 = cv2.bitwise_and(img_2017_thresh[:,:,0],img_2017_thresh[:,:,1])\n",
    "tmp_2017 = cv2.bitwise_and(img_2017_thresh[:,:,2],tmp_2017)\n",
    "tmp_2017 = cv2.cvtColor(tmp_2017,cv2.COLOR_GRAY2BGR)"
   ]
  },
  {
   "cell_type": "code",
   "execution_count": 19,
   "metadata": {},
   "outputs": [
    {
     "data": {
      "text/plain": [
       "True"
      ]
     },
     "execution_count": 19,
     "metadata": {},
     "output_type": "execute_result"
    }
   ],
   "source": [
    "# concat source images with their ice extracted\n",
    "result_2003 = cv2.hconcat([tmp_2003,img_2003])\n",
    "result_2017 = cv2.hconcat([tmp_2017,img_2017])\n",
    "\n",
    "# save visual result\n",
    "cv2.imwrite(\"./outputs/P03-d/ice-extraced-2003.jpg\",result_2003)\n",
    "cv2.imwrite(\"./outputs/P03-d/ice-extraced-2017.jpg\",result_2017)"
   ]
  },
  {
   "cell_type": "code",
   "execution_count": 20,
   "metadata": {},
   "outputs": [
    {
     "data": {
      "text/plain": [
       "'61.11%'"
      ]
     },
     "execution_count": 20,
     "metadata": {},
     "output_type": "execute_result"
    }
   ],
   "source": [
    "# counting icy pixels on 2003 and 2017 images\n",
    "icy_2003 = np.count_nonzero(np.reshape(tmp_2003[:,:,0], (1,np.product(tmp_2003[:,:,0].shape)))[0])\n",
    "icy_2017 = np.count_nonzero(np.reshape(tmp_2017[:,:,0], (1,np.product(tmp_2017[:,:,0].shape)))[0])\n",
    "\n",
    "# calculate how much ice is melted \n",
    "str(round((1-((icy_2017)*4.8)/((icy_2003)*6.2))*100,2))+\"%\""
   ]
  },
  {
   "cell_type": "code",
   "execution_count": 24,
   "metadata": {},
   "outputs": [
    {
     "data": {
      "text/plain": [
       "0.5022892627595132"
      ]
     },
     "execution_count": 24,
     "metadata": {},
     "output_type": "execute_result"
    }
   ],
   "source": [
    "icy_2017/icy_2003"
   ]
  },
  {
   "cell_type": "code",
   "execution_count": null,
   "metadata": {},
   "outputs": [],
   "source": []
  }
 ],
 "metadata": {
  "interpreter": {
   "hash": "2f58f5e3d824a28f35e64a3b79d7f63edde6993a3dcc3aa79d0be3205de7b8a2"
  },
  "kernelspec": {
   "display_name": "Python 3.8.2 64-bit",
   "language": "python",
   "name": "python3"
  },
  "language_info": {
   "codemirror_mode": {
    "name": "ipython",
    "version": 3
   },
   "file_extension": ".py",
   "mimetype": "text/x-python",
   "name": "python",
   "nbconvert_exporter": "python",
   "pygments_lexer": "ipython3",
   "version": "3.8.2"
  },
  "orig_nbformat": 4
 },
 "nbformat": 4,
 "nbformat_minor": 2
}

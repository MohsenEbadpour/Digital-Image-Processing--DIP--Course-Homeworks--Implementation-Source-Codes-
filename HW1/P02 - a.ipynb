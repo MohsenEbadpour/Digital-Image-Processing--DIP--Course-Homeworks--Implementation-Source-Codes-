{
 "cells": [
  {
   "cell_type": "code",
   "execution_count": 19,
   "metadata": {},
   "outputs": [],
   "source": [
    "import numpy as np \n",
    "import matplotlib as plt\n",
    "import seaborn as sns\n",
    "import cv2\n"
   ]
  },
  {
   "cell_type": "code",
   "execution_count": 20,
   "metadata": {},
   "outputs": [
    {
     "name": "stdout",
     "output_type": "stream",
     "text": [
      "(500, 500, 3) (500, 500, 3)\n"
     ]
    }
   ],
   "source": [
    "# Loading images and print shape\n",
    "img_1 = cv2.imread(\"./inputs/P2/grayscale1.png\")\n",
    "img_2 = cv2.imread(\"./inputs/P2/grayscale2.png\")\n",
    "\n",
    "print(img_1.shape,img_2.shape)"
   ]
  },
  {
   "cell_type": "code",
   "execution_count": 21,
   "metadata": {},
   "outputs": [],
   "source": [
    "def OffSetGenerator(img_1,img_2,index = 0): \n",
    "    # scrolling image 2 on image 1 from down to top\n",
    "    for slide_index in range(img_1.shape[0],-1,-1):\n",
    "        result = np.copy(img_1)\n",
    "        result[slide_index:,:,:] = abs(img_1[slide_index:,:,:] - img_2[0:(img_2.shape[0]-slide_index),:,:] ) \n",
    "        if index >= 548 and index <= 558: \n",
    "            cv2.imwrite(\"./outputs/P02-a/slide-offset-{0}.png\".format(index),result)      \n",
    "        index += 1\n",
    "        \n",
    "    \n",
    "    # scrolling image 1 on image 2 from top to down\n",
    "    for slide_index in range(img_2.shape[0]+1):\n",
    "        result = np.copy(img_2)\n",
    "        result[slide_index:,:,:] = (img_2[slide_index:,:,:] - img_1[0:(img_1.shape[0]-slide_index),:,:] ) \n",
    "        if index >= 548 and index <= 558: \n",
    "            cv2.imwrite(\"./outputs/P02-a/slide-offset-{0}.png\".format(index),result)\n",
    "        index += 1\n",
    "        \n",
    "\n",
    "        \n",
    "    \n",
    "    \n",
    "        "
   ]
  },
  {
   "cell_type": "code",
   "execution_count": 22,
   "metadata": {},
   "outputs": [],
   "source": [
    "OffSetGenerator(img_1,img_2,0)\n"
   ]
  },
  {
   "cell_type": "code",
   "execution_count": null,
   "metadata": {},
   "outputs": [],
   "source": []
  }
 ],
 "metadata": {
  "interpreter": {
   "hash": "2f58f5e3d824a28f35e64a3b79d7f63edde6993a3dcc3aa79d0be3205de7b8a2"
  },
  "kernelspec": {
   "display_name": "Python 3.8.2 64-bit",
   "language": "python",
   "name": "python3"
  },
  "language_info": {
   "codemirror_mode": {
    "name": "ipython",
    "version": 3
   },
   "file_extension": ".py",
   "mimetype": "text/x-python",
   "name": "python",
   "nbconvert_exporter": "python",
   "pygments_lexer": "ipython3",
   "version": "3.8.2"
  },
  "orig_nbformat": 4
 },
 "nbformat": 4,
 "nbformat_minor": 2
}

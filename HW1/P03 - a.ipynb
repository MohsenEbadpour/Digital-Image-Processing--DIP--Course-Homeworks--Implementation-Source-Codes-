{
 "cells": [
  {
   "cell_type": "code",
   "execution_count": 13,
   "metadata": {},
   "outputs": [],
   "source": [
    "import numpy as np \n",
    "import matplotlib.pyplot as plt\n",
    "import seaborn as sns\n",
    "import cv2\n",
    "import glob\n",
    "import math\n",
    "import os"
   ]
  },
  {
   "cell_type": "code",
   "execution_count": 14,
   "metadata": {},
   "outputs": [],
   "source": [
    "# Loading images\n",
    "img_2000 = cv2.imread(\"./inputs/P3/mylius_erichsen_land_2000.jpg\")\n",
    "img_2020 = cv2.imread(\"./inputs/P3/mylius_erichsen_land_2020.jpg\")"
   ]
  },
  {
   "cell_type": "code",
   "execution_count": 15,
   "metadata": {},
   "outputs": [],
   "source": [
    "_THRESH = 215\n",
    "# make a threshold to all 3 channels on 2000 image\n",
    "img_2000_thresh = img_2000.copy()\n",
    "_, img_2000_thresh[:,:,0] = cv2.threshold(img_2000[:,:,0], _THRESH, 255, cv2.THRESH_BINARY)\n",
    "_, img_2000_thresh[:,:,1] = cv2.threshold(img_2000[:,:,1], _THRESH, 255, cv2.THRESH_BINARY)\n",
    "_, img_2000_thresh[:,:,2] = cv2.threshold(img_2000[:,:,2], _THRESH, 255, cv2.THRESH_BINARY)\n",
    "\n",
    "# make a threshold to all 3 channels on 2020 image\n",
    "img_2020_thresh = img_2020.copy()\n",
    "_, img_2020_thresh[:,:,0] = cv2.threshold(img_2020[:,:,0], _THRESH, 255, cv2.THRESH_BINARY)\n",
    "_, img_2020_thresh[:,:,1] = cv2.threshold(img_2020[:,:,1], _THRESH, 255, cv2.THRESH_BINARY)\n",
    "_, img_2020_thresh[:,:,2] = cv2.threshold(img_2020[:,:,2], _THRESH, 255, cv2.THRESH_BINARY)\n"
   ]
  },
  {
   "cell_type": "code",
   "execution_count": 16,
   "metadata": {},
   "outputs": [],
   "source": [
    "# calculate '&' opreator on tipple channels then make it ready to \n",
    "tmp_2000 = cv2.bitwise_and(img_2000_thresh[:,:,0],img_2000_thresh[:,:,1])\n",
    "tmp_2000 = cv2.bitwise_and(img_2000_thresh[:,:,2],tmp_2000)\n",
    "tmp_2000 = cv2.cvtColor(tmp_2000,cv2.COLOR_GRAY2BGR)\n",
    "\n",
    "tmp_2020 = cv2.bitwise_and(img_2020_thresh[:,:,0],img_2020_thresh[:,:,1])\n",
    "tmp_2020 = cv2.bitwise_and(img_2020_thresh[:,:,2],tmp_2020)\n",
    "tmp_2020 = cv2.cvtColor(tmp_2020,cv2.COLOR_GRAY2BGR)\n"
   ]
  },
  {
   "cell_type": "code",
   "execution_count": 17,
   "metadata": {},
   "outputs": [
    {
     "data": {
      "text/plain": [
       "True"
      ]
     },
     "execution_count": 17,
     "metadata": {},
     "output_type": "execute_result"
    }
   ],
   "source": [
    "# concat source images with their ice extracted\n",
    "result_2000 = cv2.hconcat([tmp_2000,img_2000])\n",
    "result_2020 = cv2.hconcat([tmp_2020,img_2020])\n",
    "\n",
    "# save visual result\n",
    "cv2.imwrite(\"./outputs/P03-a/ice-extraced-2000.jpg\",result_2000)\n",
    "cv2.imwrite(\"./outputs/P03-a/ice-extraced-2020.jpg\",result_2020)"
   ]
  },
  {
   "cell_type": "code",
   "execution_count": 18,
   "metadata": {},
   "outputs": [],
   "source": [
    "# counting icy pixels on 2000 image\n",
    "icy_2000 = np.count_nonzero(np.reshape(tmp_2000[:,:,0], (1,np.product(tmp_2000[:,:,0].shape)))[0])\n",
    "icy_2020 = np.count_nonzero(np.reshape(tmp_2020[:,:,0], (1,np.product(tmp_2020[:,:,0].shape)))[0])"
   ]
  },
  {
   "cell_type": "code",
   "execution_count": 19,
   "metadata": {},
   "outputs": [
    {
     "data": {
      "text/plain": [
       "'60.52%'"
      ]
     },
     "execution_count": 19,
     "metadata": {},
     "output_type": "execute_result"
    }
   ],
   "source": [
    "# calculate how much ice is melted \n",
    "str(round((1 - icy_2020/icy_2000)*100,2))+\"%\""
   ]
  },
  {
   "cell_type": "code",
   "execution_count": null,
   "metadata": {},
   "outputs": [],
   "source": []
  }
 ],
 "metadata": {
  "interpreter": {
   "hash": "2f58f5e3d824a28f35e64a3b79d7f63edde6993a3dcc3aa79d0be3205de7b8a2"
  },
  "kernelspec": {
   "display_name": "Python 3.8.2 64-bit",
   "language": "python",
   "name": "python3"
  },
  "language_info": {
   "codemirror_mode": {
    "name": "ipython",
    "version": 3
   },
   "file_extension": ".py",
   "mimetype": "text/x-python",
   "name": "python",
   "nbconvert_exporter": "python",
   "pygments_lexer": "ipython3",
   "version": "3.8.2"
  },
  "orig_nbformat": 4
 },
 "nbformat": 4,
 "nbformat_minor": 2
}

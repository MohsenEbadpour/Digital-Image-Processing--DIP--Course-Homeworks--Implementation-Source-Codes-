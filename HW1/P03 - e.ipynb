{
 "cells": [
  {
   "cell_type": "code",
   "execution_count": 18,
   "metadata": {},
   "outputs": [],
   "source": [
    "import numpy as np \n",
    "import matplotlib.pyplot as plt\n",
    "import seaborn as sns\n",
    "import cv2\n",
    "plt.rcParams[\"figure.figsize\"] = (6,4)\n",
    "plt.rcParams['figure.dpi'] = 96\n",
    "sns.set_style(\"darkgrid\")\n",
    "import glob\n",
    "import math\n",
    "import os\n",
    "import random"
   ]
  },
  {
   "cell_type": "code",
   "execution_count": 19,
   "metadata": {},
   "outputs": [],
   "source": [
    "# Loading images\n",
    "imgs = []\n",
    "for index in range(1985,2021,5):\n",
    "    imgs.append(cv2.imread(\"./inputs/P3/siling_lake_{0}.jpg\".format(index)))"
   ]
  },
  {
   "cell_type": "code",
   "execution_count": 20,
   "metadata": {},
   "outputs": [],
   "source": [
    "water_areas = []\n",
    "for index in range(len(imgs)):\n",
    "    img = imgs[index].copy()\n",
    "    _, img[:,:,1] = cv2.threshold(img[:,:,1],85,255,cv2.THRESH_BINARY)\n",
    "    _, img[:,:,0] = cv2.threshold(img[:,:,0],90,255,cv2.THRESH_BINARY)\n",
    "    _, img[:,:,2] = cv2.threshold(img[:,:,2],100,255,cv2.THRESH_BINARY)\n",
    "    c_img = img.copy()\n",
    "    water_areas.append(c_img)\n",
    "    \n",
    "    img[np.where((img == [255,0,0]).all(axis = 2))] = [0,0,0]\n",
    "    img[np.where((img == [255,255,0]).all(axis = 2))] = [0,0,0]\n",
    "    \n",
    " \n",
    "    for i in [255,0]:\n",
    "        for j in [255,0]:\n",
    "            for k in [255,0,0]:\n",
    "                if [i,j,k] != [0,0,0]:\n",
    "                    img[np.where((img == [i,j,k]).all(axis = 2))] = [255,255,255]\n",
    "\n",
    "    water_areas.append(img)\n"
   ]
  },
  {
   "cell_type": "code",
   "execution_count": 23,
   "metadata": {},
   "outputs": [
    {
     "data": {
      "image/png": "[encoded data removed]",
      "text/plain": [
       "<Figure size 576x384 with 1 Axes>"
      ]
     },
     "metadata": {},
     "output_type": "display_data"
    }
   ],
   "source": [
    "area_unit_in_meter = (10000/251)**2\n",
    "depth = 6.4\n",
    "years = list(range(1985,2021,5))\n",
    "vols = []\n",
    "\n",
    "for index in range(1,len(water_areas),2):\n",
    "    inverted = cv2.bitwise_not(water_areas[index])\n",
    "    water_pixels =  inverted[:,:,0].flatten().sum()//255\n",
    "    water_vol = area_unit_in_meter*depth*water_pixels\n",
    "    depth += 0.3 \n",
    "    vols.append(water_vol)\n",
    "    \n",
    "plt.bar(years,vols)\n",
    "plt.xlabel(\"Years of Imaging\")\n",
    "plt.ylabel(\"Approximate volume\")\n",
    "plt.title(\"Volume of the Siling lake during past 35 years\")\n",
    "plt.show()"
   ]
  },
  {
   "cell_type": "code",
   "execution_count": 22,
   "metadata": {},
   "outputs": [
    {
     "data": {
      "text/plain": [
       "True"
      ]
     },
     "execution_count": 22,
     "metadata": {},
     "output_type": "execute_result"
    }
   ],
   "source": [
    "compare_images = []\n",
    "i = 0\n",
    "for index in range(0,len(water_areas)-1,+2):\n",
    "    compare_images.append(cv2.hconcat([imgs[i],water_areas[index],water_areas[index+1]]))\n",
    "    i += 1 \n",
    "cv2.imwrite(\"./outputs/P03-e/report 1985-2000.jpg\",cv2.vconcat(compare_images[:4]))\n",
    "cv2.imwrite(\"./outputs/P03-e/report 2000-2020.jpg\",cv2.vconcat(compare_images[4:]))"
   ]
  }
 ],
 "metadata": {
  "interpreter": {
   "hash": "2f58f5e3d824a28f35e64a3b79d7f63edde6993a3dcc3aa79d0be3205de7b8a2"
  },
  "kernelspec": {
   "display_name": "Python 3.8.2 64-bit",
   "language": "python",
   "name": "python3"
  },
  "language_info": {
   "codemirror_mode": {
    "name": "ipython",
    "version": 3
   },
   "file_extension": ".py",
   "mimetype": "text/x-python",
   "name": "python",
   "nbconvert_exporter": "python",
   "pygments_lexer": "ipython3",
   "version": "3.8.2"
  },
  "orig_nbformat": 4
 },
 "nbformat": 4,
 "nbformat_minor": 2
}

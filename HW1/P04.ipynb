{
 "cells": [
  {
   "cell_type": "code",
   "execution_count": 190,
   "metadata": {},
   "outputs": [],
   "source": [
    "import numpy as np \n",
    "import matplotlib.pyplot as plt\n",
    "import seaborn as sns\n",
    "import cv2\n",
    "plt.rcParams[\"figure.figsize\"] = (6,4)\n",
    "plt.rcParams['figure.dpi'] = 96\n",
    "sns.set_style(\"darkgrid\")\n",
    "import glob\n",
    "import math\n",
    "import os\n",
    "import random\n",
    "import shutil\n",
    "shutil.rmtree('./outputs/P04/')\n",
    "os.mkdir('./outputs/P04/')"
   ]
  },
  {
   "cell_type": "code",
   "execution_count": 191,
   "metadata": {},
   "outputs": [
    {
     "name": "stderr",
     "output_type": "stream",
     "text": [
      "<ipython-input-191-8e4f79d89402>:19: VisibleDeprecationWarning: Creating an ndarray from ragged nested sequences (which is a list-or-tuple of lists-or-tuples-or ndarrays with different lengths or shapes) is deprecated. If you meant to do this, you must specify 'dtype=object' when creating the ndarray.\n",
      "  imgs = np.array(imgs)\n"
     ]
    }
   ],
   "source": [
    "# Loading images\n",
    "imgs = []\n",
    "labels = []\n",
    "label_imgs = {}\n",
    "\n",
    "for img in glob.glob(\"./inputs/P4/*.png\"):\n",
    "    lb = \" \".join(list(os.path.splitext(os.path.basename(img))[0].split(\"_\"))).title()\n",
    "    img = cv2.imread(img)    \n",
    "    labels.append(lb)\n",
    "    imgs.append(img)\n",
    "    label_imgs[lb] = img\n",
    "    if lb == \"Maze\":\n",
    "        lb = \"Maze_Empty\"\n",
    "        labels.append(lb)\n",
    "        imgs.append(img)\n",
    "        label_imgs[lb] = img\n",
    "        \n",
    "    \n",
    "imgs = np.array(imgs)\n",
    "labels = np.array(labels)"
   ]
  },
  {
   "cell_type": "code",
   "execution_count": 192,
   "metadata": {},
   "outputs": [],
   "source": [
    "GhostsNames = [\"Blinky\", \"Clyde\",\"Inky\",\"Pinky\"]\n",
    "GhostsLegs = [1,1,1,1]\n",
    "Dirs = [\"Left\",\"Right\",\"Up\",\"Down\"]\n",
    "PacM = [\"Half\",\"Open\",\"Closed\"]\n",
    "Moves = [\"Move1\",\"Move2\"]\n",
    "AteDotsPos = []\n",
    "FrameID = 0\n",
    "PacDir = \"Left\"\n",
    "Locations = []\n",
    "States = []\n",
    "ALLDOTS =[]\n",
    "PowerLocations = []"
   ]
  },
  {
   "cell_type": "code",
   "execution_count": 193,
   "metadata": {},
   "outputs": [],
   "source": [
    "def PosWriter(pos_:tuple,map_:np.array,item:np.array):\n",
    "    pos = list(pos_)\n",
    "    if item.shape[0]%2==0:\n",
    "        start_row = pos[0]- (item.shape[0]//2)\n",
    "        end_row = pos[0]+ (item.shape[0]//2)\n",
    "    else:\n",
    "        start_row = pos[0]- (item.shape[0]//2) -1\n",
    "        end_row = pos[0]+ (item.shape[0]//2) \n",
    "\n",
    "    if item.shape[1]%2==0:\n",
    "        start_col = pos[1]- (item.shape[1]//2)\n",
    "        end_col = pos[1]+ (item.shape[1]//2)\n",
    "        \n",
    "    else:\n",
    "        start_col = pos[1]- (item.shape[1]//2) -1\n",
    "        end_col = pos[1]+ (item.shape[1]//2)     \n",
    "\n",
    "    map_ [start_row:end_row,start_col:end_col,:] = item\n",
    "    return map_    \n",
    "    "
   ]
  },
  {
   "cell_type": "code",
   "execution_count": 194,
   "metadata": {},
   "outputs": [],
   "source": [
    "def init_game(maze_img,item_imgs):\n",
    "    find_dots = cv2.matchTemplate(maze_img, item_imgs[\"Dot\"], cv2.TM_CCORR_NORMED)\n",
    "    dots_location_ = np.where(find_dots >= 0.99999)\n",
    "    dots_location_ = list(zip(*dots_location_))\n",
    "    global ALLDOTS\n",
    "    ALLDOTS = dots_location_.copy()\n",
    "    \n",
    "    find_power = cv2.matchTemplate(maze_img, item_imgs[\"Power Pellet\"], cv2.TM_CCORR_NORMED)\n",
    "    power_location_ = np.where(find_power >= 0.9999)\n",
    "    power_location_ = list(zip(*power_location_))\n",
    "    \n",
    "    for p_ in power_location_:\n",
    "        for i in range(9):\n",
    "            for j in range(9):\n",
    "                p = list(p_).copy()\n",
    "                p[0] += i\n",
    "                p[1] += j\n",
    "                ALLDOTS.append(tuple(p))\n",
    "                PowerLocations.append(tuple(p))\n",
    "   \n",
    "\n",
    "    dots_location = random.sample(dots_location_,5)\n",
    "    \n",
    "    tmp = maze_img.copy()\n",
    "    pac = item_imgs[\"Pacman Closed\"]\n",
    "    tmp = PosWriter(dots_location[0],tmp,pac)\n",
    "    \n",
    "    global AteDotsPos\n",
    "    AteDotsPos.append(dots_location[0])\n",
    "    \n",
    "    state = [\"Pacman Closed\"]\n",
    "    for index in range(len(GhostsNames)):\n",
    "        ghost = \"\"\n",
    "        move = random.sample(Moves,1)[0]\n",
    "        GhostsLegs[index] = move\n",
    "        ghost += \" \" + move\n",
    "        ghost += \" \" + random.sample(Dirs,4)[0]\n",
    "        state.append(ghost)\n",
    "        ghost = GhostsNames[index] + ghost\n",
    "        tmp = PosWriter(dots_location[index+1],tmp,item_imgs[ghost])  \n",
    "                     \n",
    "    global Locations\n",
    "    global States\n",
    "    Locations = dots_location\n",
    "    States = state\n",
    "    \n",
    "    cv2.imwrite(\"./outputs/P04/1-init-map.png\",tmp)\n",
    "    \n",
    "    global FrameID\n",
    "    FrameID += 1\n",
    "    return tmp\n"
   ]
  },
  {
   "cell_type": "code",
   "execution_count": 195,
   "metadata": {},
   "outputs": [],
   "source": [
    "def GetNewPos(pos,dir_):\n",
    "    pos = pos.copy()\n",
    "    if dir_ == \"Left\":\n",
    "           pos[1] -= 3\n",
    "\n",
    "    if dir_ == \"Right\":\n",
    "        pos[1] += 3\n",
    "        \n",
    "    if dir_ == \"Up\":\n",
    "           pos[0] -= 3\n",
    "\n",
    "    if dir_ == \"Down\":\n",
    "        pos[0] += 3\n",
    "    \n",
    "    return pos"
   ]
  },
  {
   "cell_type": "code",
   "execution_count": 196,
   "metadata": {},
   "outputs": [],
   "source": [
    "def Access(pos_,dir_,self_flag=True):\n",
    "    global ALLDOTS\n",
    "    for i in range(1,9):\n",
    "        pos = pos_.copy()\n",
    "        if dir_ == \"Left\":\n",
    "            pos[1] -= i\n",
    "\n",
    "        if dir_ == \"Right\":\n",
    "            pos[1] += i\n",
    "            \n",
    "        if dir_ == \"Up\":\n",
    "            pos[0] -= i\n",
    "\n",
    "        if dir_ == \"Down\":\n",
    "            pos[0] += i\n",
    "        \n",
    "        pos = tuple(pos)  \n",
    "        \n",
    "        if  pos in ALLDOTS :\n",
    "            return True\n",
    "        \n",
    "    return False\n",
    "  \n",
    "        "
   ]
  },
  {
   "cell_type": "code",
   "execution_count": 197,
   "metadata": {},
   "outputs": [],
   "source": [
    "def GhostMove(current,pos,_map):    \n",
    "    global Dirs        \n",
    "    pos = list(pos)\n",
    "    flag = False\n",
    "    dir_ = list(current.split())[2]\n",
    "    while not Access(pos,dir_):\n",
    "        paths = Dirs.copy()\n",
    "        if dir_ == \"Left\" or dir_ ==\"Right\":  \n",
    "            del paths[paths.index(\"Right\")]     \n",
    "            del paths[paths.index(\"Left\")]  \n",
    "\n",
    "        if dir_ == \"Up\" or dir_ ==\"Down\":\n",
    "            del paths[paths.index(\"Up\")]     \n",
    "            del paths[paths.index(\"Down\")]\n",
    "              \n",
    "        dir_ = random.sample(paths,1)[0]\n",
    "        current = list(current.split())\n",
    "        del current [2]\n",
    "        current.insert(2,dir_)        \n",
    "        current = \" \".join(current)\n",
    "        \n",
    "    pos = GetNewPos(pos,dir_)\n",
    "    _map = PosWriter(pos,_map,label_imgs[current])\n",
    "        \n",
    "    return _map,pos,current"
   ]
  },
  {
   "cell_type": "code",
   "execution_count": 198,
   "metadata": {},
   "outputs": [],
   "source": [
    "def IsNotAte(pos,dir_,look):\n",
    "    global AteDotsPos\n",
    "    for thresh_look in range(look):\n",
    "        if dir_ == \"Left\":\n",
    "            pos_ = pos.copy()\n",
    "            pos_[1] -= thresh_look\n",
    "            pos_ = tuple(pos_)\n",
    "        if dir_ == \"Right\":\n",
    "            pos_ = pos.copy()\n",
    "            pos_[1] += thresh_look\n",
    "            pos_ = tuple(pos_)\n",
    "        if dir_ == \"Down\":\n",
    "            pos_ = pos.copy()\n",
    "            pos_[1] += thresh_look \n",
    "            pos_ = tuple(pos_)\n",
    "        if dir_ == \"Up\":\n",
    "            pos_ = pos.copy()\n",
    "            pos_[1] -= thresh_look\n",
    "            pos_ = tuple(pos_)\n",
    "\n",
    "        if pos_ in AteDotsPos :\n",
    "            return False \n",
    "        \n",
    "    return True\n",
    "        "
   ]
  },
  {
   "cell_type": "code",
   "execution_count": 199,
   "metadata": {},
   "outputs": [],
   "source": [
    "def EatPos(pos_,dir_):\n",
    "    global label_imgs\n",
    "    for i in range(0,4):\n",
    "        pos = pos_.copy()\n",
    "        if dir_ == \"Left\":\n",
    "            pos[1] += i\n",
    "            AteDotsPos.append(tuple(pos))\n",
    "            pos[0] -= 1\n",
    "            AteDotsPos.append(tuple(pos))\n",
    "            pos[0] += 2\n",
    "            AteDotsPos.append(tuple(pos))\n",
    "            \n",
    "        if dir_ == \"Right\":\n",
    "            pos[1] -= i\n",
    "            AteDotsPos.append(tuple(pos))\n",
    "            pos[0] -= 1\n",
    "            AteDotsPos.append(tuple(pos))\n",
    "            pos[0] += 2\n",
    "            AteDotsPos.append(tuple(pos))\n",
    "            \n",
    "        if dir_ == \"Up\":\n",
    "            pos[1] += i\n",
    "            AteDotsPos.append(tuple(pos))\n",
    "            pos[0] -= 1 \n",
    "            AteDotsPos.append(tuple(pos))\n",
    "            pos[0] += 2\n",
    "            AteDotsPos.append(tuple(pos))\n",
    "\n",
    "        if dir_ == \"Down\":\n",
    "            pos[1] -= i\n",
    "            AteDotsPos.append(tuple(pos))\n",
    "            pos[0] -= 1\n",
    "            AteDotsPos.append(tuple(pos))\n",
    "            pos[0] += 2\n",
    "            AteDotsPos.append(tuple(pos))"
   ]
  },
  {
   "cell_type": "code",
   "execution_count": 200,
   "metadata": {},
   "outputs": [],
   "source": [
    "def PacMove(current,pos,_map):            \n",
    "    pos = list(pos)\n",
    "    flag = False\n",
    "    global AteDotsPos\n",
    "    global PacDir \n",
    "    global Locations\n",
    "    global Dirs\n",
    "    \n",
    "    for i in range (1,5):\n",
    "        tmp = math.sqrt((Locations[i][0] - pos[0])**2 + (Locations[i][1] - pos[1])**2)\n",
    "        if tmp <= 14:\n",
    "            print(\"Game Over ...\")\n",
    "            return None,None,None\n",
    "\n",
    "    flag = Access(pos,PacDir)\n",
    "    dir_ = PacDir \n",
    "    if not flag:\n",
    "        paths = Dirs.copy()\n",
    "        if PacDir == \"Left\" or PacDir ==\"Right\":  \n",
    "            del paths[paths.index(\"Right\")]     \n",
    "            del paths[paths.index(\"Left\")]  \n",
    "            \n",
    "        if PacDir == \"Up\" or PacDir ==\"Down\":\n",
    "            del paths[paths.index(\"Up\")]     \n",
    "            del paths[paths.index(\"Down\")]\n",
    "            \n",
    "        PacDir = random.sample(paths,1)[0]\n",
    "        flag = Access(pos,PacDir)\n",
    "        if not flag:\n",
    "            del paths[paths.index(PacDir)]\n",
    "            PacDir = paths[0]  \n",
    "            dir_ = PacDir          \n",
    "        _map = PosWriter(pos,_map,label_imgs[\"Pacman Closed\"])  \n",
    "        return _map,pos,\"Pacman Closed\"\n",
    "\n",
    "    \n",
    "    new_pos = GetNewPos(pos,dir_) \n",
    "    if \"Open\" in current :\n",
    "        current = \"Pacman Half {0}\".format(dir_)\n",
    "        \n",
    "    elif not(IsNotAte(new_pos,dir_,6)):\n",
    "        if \"Open\" in current:\n",
    "            current = \"Pacman Half {0}\".format(dir_)\n",
    "        else :\n",
    "            current = \"Pacman Closed\"\n",
    "\n",
    "    elif \"Open\" in current and not(IsNotAte(new_pos,dir_,3)):\n",
    "        current = \"Pacman Half {0}\".format(dir_)\n",
    "        \n",
    "    elif \"Closed\" in current and IsNotAte(new_pos,dir_,3):\n",
    "        current = \"Pacman Half {0}\".format(dir_)\n",
    "        \n",
    "    elif \"Half\" in current and IsNotAte(new_pos,dir_,3):\n",
    "        current = \"Pacman Open {0}\".format(dir_)\n",
    "     \n",
    "    EatPos(new_pos,PacDir,current) \n",
    "    AteDotsPos.append(tuple(new_pos)) \n",
    "\n",
    "    \n",
    "    _map = PosWriter(new_pos,_map,label_imgs[current])  \n",
    "    return _map,new_pos,current\n",
    "        \n",
    " "
   ]
  },
  {
   "cell_type": "code",
   "execution_count": 201,
   "metadata": {},
   "outputs": [
    {
     "name": "stdout",
     "output_type": "stream",
     "text": [
      "150\n"
     ]
    }
   ],
   "source": [
    "def gen_demo(game_img, item_imgs):\n",
    "    global FrameID \n",
    "    global States\n",
    "    global Locations\n",
    "    global PowerLocations\n",
    "    FrameID += 1\n",
    "    elements = GhostsNames.copy()\n",
    "    elements.insert(0,\"Pacman \")\n",
    "    tmp = item_imgs[\"Maze_Empty\"].copy()\n",
    "    for _ in AteDotsPos:\n",
    "        tmp[_[0]:_[0]+2,_[1]:_[1]+2,:] = [0,0,0]\n",
    "        if _ in PowerLocations :\n",
    "            index = PowerLocations.index(_)\n",
    "            index = PowerLocations[(index//64)*64]\n",
    "            tmp[index[0]:index[0]+8,index[1]:index[1]+8,:] = [0,0,0]\n",
    "            for i in range(9):\n",
    "                for j in range(9):\n",
    "                    if tuple([index[0]+i,index[1]+j]) :\n",
    "                        AteDotsPos.append(tuple([index[0]+i,index[1]+j]))\n",
    "                \n",
    "    for index in range(len(elements)):\n",
    "        if elements[index] in States[index] :\n",
    "            current = States[index]\n",
    "        else: \n",
    "            current = elements[index] + States[index]\n",
    "\n",
    "        if FrameID%3 == 0:\n",
    "            if \"1\" in current:\n",
    "                current = current.replace(\"Move1\",\"Move2\")\n",
    "            else:\n",
    "                current = current.replace(\"Move2\",\"Move1\")\n",
    "                \n",
    "        if \"Pac\" in elements[index]:\n",
    "            tmp,pos,current = PacMove(current,Locations[index],tmp.copy())\n",
    "            if current is None:\n",
    "                return\n",
    "        else:          \n",
    "            tmp,pos,current = GhostMove(current,Locations[index],tmp.copy())\n",
    "        Locations[index] = pos\n",
    "        States[index] = current\n",
    "\n",
    "\n",
    "    cv2.imwrite(\"./outputs/P04/{0}-map.png\".format(FrameID),tmp)\n",
    "    return tmp\n",
    "            \n",
    "            \n",
    "            \n",
    "            \n",
    "\n",
    "while True:\n",
    "    init = init_game(label_imgs[\"Maze\"],label_imgs) \n",
    "    current_image = init\n",
    "    IMAGES = []    \n",
    "    for d in range(150):\n",
    "        current_image = gen_demo(current_image,label_imgs)\n",
    "        if current_image is None :\n",
    "            break \n",
    "        IMAGES.append(current_image)\n",
    "    print(len(IMAGES))\n",
    "    if len(IMAGES) >= 70:\n",
    "        break\n",
    "    \n",
    "\n"
   ]
  },
  {
   "cell_type": "code",
   "execution_count": 202,
   "metadata": {},
   "outputs": [],
   "source": [
    "h,w = label_imgs[\"Maze\"].shape[0:2]\n",
    "out = cv2.VideoWriter('./outputs/P04/00-Video Output.mp4',cv2.VideoWriter_fourcc(*'MP4V'), 8, (w,h))\n",
    "\n",
    "for i in range(len(IMAGES)):\n",
    "    out.write(IMAGES[i])\n",
    "out.release()"
   ]
  },
  {
   "cell_type": "code",
   "execution_count": 221,
   "metadata": {},
   "outputs": [
    {
     "data": {
      "text/plain": [
       "True"
      ]
     },
     "execution_count": 221,
     "metadata": {},
     "output_type": "execute_result"
    }
   ],
   "source": [
    "finded_dots = cv2.matchTemplate(label_imgs[\"Maze\"],label_imgs[\"Dot\"], cv2.TM_CCORR_NORMED)\n",
    "map_ = label_imgs[\"Maze\"].copy()\n",
    "w, h = label_imgs[\"Dot\"].shape[1],label_imgs[\"Dot\"].shape[0]\n",
    "loc = np.where( finded_dots >= .99999)\n",
    "for pt in zip(*loc[::-1]):\n",
    "    cv2.rectangle(map_, pt, (pt[0] + w, pt[1] + h), (255,255,255), 2)\n",
    "cv2.imwrite(\"./outputs/P04/00-Dot-Detection.png\",map_)\n"
   ]
  },
  {
   "cell_type": "code",
   "execution_count": 222,
   "metadata": {},
   "outputs": [
    {
     "data": {
      "text/plain": [
       "True"
      ]
     },
     "execution_count": 222,
     "metadata": {},
     "output_type": "execute_result"
    }
   ],
   "source": [
    "finded_dots = cv2.matchTemplate(label_imgs[\"Maze\"],label_imgs[\"Wall\"], cv2.TM_CCORR_NORMED)\n",
    "map_ = label_imgs[\"Maze\"].copy()\n",
    "w, h = label_imgs[\"Dot\"].shape[1],label_imgs[\"Wall\"].shape[0]\n",
    "loc = np.where( finded_dots >= .99999)\n",
    "for pt in zip(*loc[::-1]):\n",
    "    cv2.rectangle(map_, pt, (pt[0] + w, pt[1] + h), (255,255,255), 2)\n",
    "cv2.imwrite(\"./outputs/P04/00-Wall-Detection.png\",map_)"
   ]
  },
  {
   "cell_type": "code",
   "execution_count": 223,
   "metadata": {},
   "outputs": [
    {
     "data": {
      "text/plain": [
       "True"
      ]
     },
     "execution_count": 223,
     "metadata": {},
     "output_type": "execute_result"
    }
   ],
   "source": [
    "finded_dots = cv2.matchTemplate(label_imgs[\"Maze\"],label_imgs[\"Power\"], cv2.TM_CCORR_NORMED)\n",
    "map_ = label_imgs[\"Maze\"].copy()\n",
    "w, h = label_imgs[\"Dot\"].shape[1],label_imgs[\"Power\"].shape[0]\n",
    "loc = np.where( finded_dots >= .99999)\n",
    "for pt in zip(*loc[::-1]):\n",
    "    cv2.rectangle(map_, pt, (pt[0] + w, pt[1] + h), (255,255,255), 2)\n",
    "cv2.imwrite(\"./outputs/P04/00-Power-Detection.png\",map_)"
   ]
  },
  {
   "cell_type": "code",
   "execution_count": 224,
   "metadata": {},
   "outputs": [
    {
     "data": {
      "text/plain": [
       "True"
      ]
     },
     "execution_count": 224,
     "metadata": {},
     "output_type": "execute_result"
    }
   ],
   "source": [
    "finded_dots = cv2.matchTemplate(label_imgs[\"Maze\"],label_imgs[\"Power Pellet\"], cv2.TM_CCORR_NORMED)\n",
    "map_ = label_imgs[\"Maze\"].copy()\n",
    "w, h = label_imgs[\"Dot\"].shape[1],label_imgs[\"Power Pellet\"].shape[0]\n",
    "loc = np.where( finded_dots >= .99999)\n",
    "for pt in zip(*loc[::-1]):\n",
    "    cv2.rectangle(map_, pt, (pt[0] + w, pt[1] + h), (255,255,255), 2)\n",
    "cv2.imwrite(\"./outputs/P04/00-Power Pellet-Detection.png\",map_)"
   ]
  },
  {
   "cell_type": "code",
   "execution_count": null,
   "metadata": {},
   "outputs": [],
   "source": []
  }
 ],
 "metadata": {
  "kernelspec": {
   "display_name": "Python 3.9.12 ('base')",
   "language": "python",
   "name": "python3"
  },
  "language_info": {
   "codemirror_mode": {
    "name": "ipython",
    "version": 3
   },
   "file_extension": ".py",
   "mimetype": "text/x-python",
   "name": "python",
   "nbconvert_exporter": "python",
   "pygments_lexer": "ipython3",
   "version": "3.9.12"
  },
  "orig_nbformat": 4,
  "vscode": {
   "interpreter": {
    "hash": "dc8f41598815372d424d3d64f4c954dc34c138854ca7d29dfa59a43d1be47155"
   }
  }
 },
 "nbformat": 4,
 "nbformat_minor": 2
}

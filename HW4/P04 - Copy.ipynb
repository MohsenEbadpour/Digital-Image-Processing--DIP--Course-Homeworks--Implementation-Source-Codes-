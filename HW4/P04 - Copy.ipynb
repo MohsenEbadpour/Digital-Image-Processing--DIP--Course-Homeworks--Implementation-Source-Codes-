{
 "cells": [
  {
   "cell_type": "code",
   "execution_count": null,
   "metadata": {},
   "outputs": [],
   "source": [
    "import numpy as np \n",
    "import cv2 \n",
    "import matplotlib.pyplot as plt \n",
    "from scipy.interpolate import NearestNDInterpolator\n",
    "from math import * \n",
    "plt.rcParams['figure.figsize'] = [16, 12]\n",
    "from scipy.spatial import Delaunay\n"
   ]
  },
  {
   "cell_type": "code",
   "execution_count": null,
   "metadata": {},
   "outputs": [],
   "source": [
    "img_1 = cv2.imread(\"./inputs/P4/kobytev_1941.png\",0)[:,:771]\n",
    "img_2 = cv2.imread(\"./inputs/P4/kobytev_1945.png\",0)\n"
   ]
  },
  {
   "cell_type": "markdown",
   "metadata": {},
   "source": [
    "### #a"
   ]
  },
  {
   "cell_type": "code",
   "execution_count": null,
   "metadata": {},
   "outputs": [],
   "source": [
    "plt.rcParams['figure.figsize'] = [16, 12]\n",
    "def NaiveMethod(img_1,img_2):\n",
    "    i = 1\n",
    "    for index in np.arange(0,1.05,0.05):\n",
    "        plt.subplot(4,5,i)\n",
    "        new_img = img_1*(1-index) + img_2*index\n",
    "        plt.imshow(new_img,cmap=\"gray\")\n",
    "        plt.axis(\"off\")\n",
    "        plt.title(\"Naive method with a=\"+str(round(index,2)))\n",
    "        i+=1\n",
    "        if i == 21 :\n",
    "            break\n",
    "        \n",
    "    plt.tight_layout()\n",
    "    plt.show()\n",
    "    \n",
    "    fourcc = cv2.VideoWriter_fourcc(*'MP4V')\n",
    "    h,w = img_1.shape\n",
    "    out = cv2.VideoWriter(\"./outputs/P04/a-output.mp4\", fourcc, 30, (w, h))\n",
    "    \n",
    "    for a in np.arange(0,1,1/60):\n",
    "        new_img = img_1*(1-a) + img_2*a \n",
    "        new_img = cv2.cvtColor(new_img.astype(np.uint8),cv2.COLOR_GRAY2RGB)\n",
    "        out.write(new_img)\n",
    "    out.release()\n",
    "   \n",
    "NaiveMethod(img_1,img_2)  "
   ]
  },
  {
   "cell_type": "markdown",
   "metadata": {},
   "source": [
    "### #b"
   ]
  },
  {
   "cell_type": "code",
   "execution_count": null,
   "metadata": {},
   "outputs": [],
   "source": [
    "plt.rcParams['figure.figsize'] = [8, 6]\n",
    "from datetime import datetime\n",
    "\n",
    "\n",
    "def event_handler(event, p_x, p_y, _ , param):\n",
    "    if event == cv2.EVENT_LBUTTONDOWN:\n",
    "        param[1].append([p_x, p_y])\n",
    "        cv2.destroyWindow(\"GetKeypoints\")\n",
    "        cv2.circle(param[0], param[1][-1], 5, (242, 80, 91), -1)            \n",
    "        point_picker(param[0],param[1],param[2])\n",
    "    else:\n",
    "        pass\n",
    "\n",
    "def point_picker(img, selected_points,count=26):\n",
    "    if len(img.shape) != 3 :\n",
    "        img = cv2.cvtColor(img,cv2.COLOR_GRAY2RGB)\n",
    "        \n",
    "    if len(selected_points) == count :\n",
    "        plt.imshow(img)\n",
    "        plt.axis(\"off\")\n",
    "        plt.title(\"Selected KeyPoints\")\n",
    "        plt.show()\n",
    "        return selected_points    \n",
    "    cv2.imshow('GetKeypoints', img[:,:,::-1])\n",
    "    cv2.setMouseCallback('GetKeypoints', event_handler, [img, selected_points,count])\n",
    "    cv2.waitKey(0)\n",
    "    cv2.destroyAllWindows()\n",
    "    \n",
    "    return selected_points\n",
    "\n",
    "\n",
    "points_1 = np.array(point_picker(img_1.copy(),[]))\n",
    "points_2 = np.array(point_picker(img_2.copy(),[]))\n",
    "\n",
    "with open('./outputs/P04/b-points-1-2.npy', 'wb') as f:\n",
    "    np.save(f, points_1)\n",
    "\n",
    "with open('./outputs/P04/b-points-2-2.npy', 'wb') as f:\n",
    "    np.save(f, points_2)"
   ]
  },
  {
   "cell_type": "code",
   "execution_count": null,
   "metadata": {},
   "outputs": [],
   "source": [
    "with open('./outputs/P04/b-points-1.npy', 'rb') as f:\n",
    "    points_1 = np.load(f)\n",
    "\n",
    "with open('./outputs/P04/b-points-2.npy', 'rb') as f:\n",
    "    points_2 = np.load(f)\n",
    "points_2[21][0] -= 20  \n",
    "\n"
   ]
  },
  {
   "cell_type": "code",
   "execution_count": null,
   "metadata": {},
   "outputs": [],
   "source": [
    "plt.rcParams['figure.figsize'] = [12, 9]\n",
    "\n",
    "imgs = [ img_1, img_2]\n",
    "points = [points_1,points_2]\n",
    "d = [1941,1945 ]\n",
    "for i in range(2):\n",
    "    img = cv2.cvtColor(imgs[i],cv2.COLOR_GRAY2RGB)\n",
    "    _points = points[i]\n",
    "    plt.subplot(1,2,i+1)\n",
    "    index = 1\n",
    "    for p in _points : \n",
    "        t = p.copy()\n",
    "        cv2.circle(img, t, 5, (242, 80, 91), -1)   \n",
    "        cv2.putText(img=img, text=str(index), org=t+5, fontFace=cv2.FONT_HERSHEY_TRIPLEX, fontScale=0.75, color=(242, 80, 91),thickness=2)\n",
    "        index +=1\n",
    "    plt.imshow(img)\n",
    "    plt.axis(\"off\")\n",
    "    plt.title(\"Selected keypoints for image {0}\".format(d[i]))\n",
    "\n",
    "plt.tight_layout()\n",
    "plt.show()"
   ]
  },
  {
   "cell_type": "markdown",
   "metadata": {},
   "source": [
    "### #c"
   ]
  },
  {
   "cell_type": "code",
   "execution_count": null,
   "metadata": {},
   "outputs": [],
   "source": [
    "cornerss_1 = [ \n",
    "            [0,0],\n",
    "            [0,img_1.shape[0]-1],\n",
    "            [img_1.shape[1]-1,0],\n",
    "            [img_1.shape[1]-1,img_1.shape[0]-1]\n",
    "            ]\n",
    "\n",
    "cornerss_2 = [ \n",
    "            [0,0],\n",
    "            [0,img_2.shape[0]-1],\n",
    "            [img_2.shape[1]-1,0],\n",
    "            [img_2.shape[1]-1,img_2.shape[0]-1]\n",
    "            ]\n",
    "points_1_full = np.append(points_1,cornerss_1,axis=0)\n",
    "points_2_full = np.append(points_2,cornerss_2,axis=0)\n",
    "fulls = [points_1_full,points_2_full]\n",
    "imgs = [ img_1, img_2]\n",
    "points = [points_1,points_2]\n",
    "cors = [cornerss_1,cornerss_2]\n",
    "d = [1941,1945 ]\n",
    "\n",
    "for i in range(2):\n",
    "    img = cv2.cvtColor(imgs[i],cv2.COLOR_GRAY2RGB)\n",
    "    _f = fulls[i]\n",
    "    \n",
    "    plt.subplot(1,2,i+1)\n",
    "    plt.imshow(img)\n",
    "    \n",
    "    tri = Delaunay(_f)\n",
    "    plt.triplot(_f[:,0], _f[:,1], tri.simplices,color=\"blue\",alpha=0.35)\n",
    "    plt.plot(_f[:,0], _f[:,1], '*',color=\"red\")\n",
    "\n",
    "    plt.axis(\"off\")\n",
    "    plt.title(\"Triangulation for image {0}\".format(d[i]))\n",
    "\n",
    "plt.tight_layout()\n",
    "plt.show()"
   ]
  },
  {
   "cell_type": "markdown",
   "metadata": {},
   "source": [
    "### #d"
   ]
  },
  {
   "cell_type": "code",
   "execution_count": null,
   "metadata": {},
   "outputs": [],
   "source": [
    "plt.rcParams['figure.figsize'] = [16, 12]\n",
    "\n",
    "def get_position_by_indice(tri_1,position):\n",
    "    n= tri_1.shape[0]\n",
    "    tri_1 = np.reshape(tri_1,(-1,))\n",
    "    li = []\n",
    "    for t in tri_1:\n",
    "       li.append(position[t]) \n",
    "       \n",
    "    res = np.reshape(li,(n,3,2))\n",
    "    return res \n",
    "\n",
    "def get_single_frame(scr_ps,dst_p,img):\n",
    "    Rs = []\n",
    "    for rig_i in range(scr_ps.shape[0]):\n",
    "        mask = np.zeros_like(img,dtype=np.uint8)\n",
    "        cv2.fillPoly(mask, pts=[scr_ps[rig_i]], color=(255, 255, 255))\n",
    "        warp_mat_1 = cv2.getAffineTransform(scr_ps[rig_i].astype(np.float32), dst_p[rig_i].astype(np.float32))\n",
    "        warp_dst_1 = cv2.warpAffine(img, warp_mat_1, (img.shape[1], img.shape[0]))\n",
    "        warp_dst_1_mask = cv2.warpAffine(mask, warp_mat_1, (img.shape[1], img.shape[0]))\n",
    "        \n",
    "        result = cv2.bitwise_and(warp_dst_1, warp_dst_1, mask=warp_dst_1_mask)\n",
    "        Rs.append(result)\n",
    "     \n",
    "    return sum(Rs)\n",
    "\n",
    "def get_single_image(a,in1,in2):\n",
    "    dst_ps = (1-a)*in1 + a*in2\n",
    "    p1 = get_single_frame(in1,dst_ps,img_1.copy())\n",
    "    p2 = get_single_frame(in2,dst_ps,img_2.copy())\n",
    "    p = (1-a)*p1 + a*p2\n",
    "    \n",
    "    return p\n",
    "    \n",
    "tri_1 = Delaunay(points_1_full).simplices\n",
    "\n",
    "def handle():\n",
    "    in1 = get_position_by_indice(tri_1,fulls[0])\n",
    "    in2 = get_position_by_indice(tri_1,fulls[1])\n",
    "    \n",
    "    index = 1\n",
    "    for alpha in np.arange(0,1,1/10):\n",
    "        plt.subplot(2,5,index)\n",
    "        index += 1\n",
    "        image = get_single_image(alpha,in1,in2)\n",
    "        plt.imshow(image,cmap=\"gray\")\n",
    "        plt.axis(\"off\")\n",
    "        plt.title(\"Triangulation method with a=\"+str(round(alpha,2)))\n",
    "        \n",
    "    plt.tight_layout()\n",
    "    plt.show()\n",
    "    \n",
    "    fourcc = cv2.VideoWriter_fourcc(*'MP4V')\n",
    "    h,w = img_1.shape\n",
    "    out = cv2.VideoWriter(\"./outputs/P04/d-output.mp4\", fourcc, 30, (w, h))\n",
    "    \n",
    "    for a in np.arange(0,1,1/60):\n",
    "        new_img = get_single_image(a,in1,in2)\n",
    "        new_img = cv2.cvtColor(new_img.astype(np.uint8),cv2.COLOR_GRAY2RGB)\n",
    "        out.write(new_img)\n",
    "        \n",
    "        \n",
    "    new_img = get_single_image(1,in1,in2)\n",
    "    new_img = cv2.cvtColor(new_img.astype(np.uint8),cv2.COLOR_GRAY2RGB)\n",
    "    out.write(new_img)\n",
    "    out.release()\n",
    "    \n",
    "    \n",
    "handle()"
   ]
  },
  {
   "cell_type": "code",
   "execution_count": null,
   "metadata": {},
   "outputs": [],
   "source": [
    "in1 = get_position_by_indice(tri_1,fulls[0])\n",
    "in2 = get_position_by_indice(tri_1,fulls[1])\n",
    "\n",
    "index = 1\n",
    "for alpha in np.arange(0,1,1/5):\n",
    "    plt.subplot(4,5,index)\n",
    "    index += 1\n",
    "    image = get_single_image(alpha,in1,in2).astype(\"uint8\")\n",
    "    image = cv2.medianBlur(image,7)\n",
    "    plt.imshow(image,cmap=\"gray\")\n",
    "    \n",
    "plt.show()"
   ]
  },
  {
   "cell_type": "code",
   "execution_count": null,
   "metadata": {},
   "outputs": [],
   "source": [
    "image"
   ]
  },
  {
   "cell_type": "code",
   "execution_count": null,
   "metadata": {},
   "outputs": [],
   "source": []
  }
 ],
 "metadata": {
  "kernelspec": {
   "display_name": "Python 3",
   "language": "python",
   "name": "python3"
  },
  "language_info": {
   "codemirror_mode": {
    "name": "ipython",
    "version": 3
   },
   "file_extension": ".py",
   "mimetype": "text/x-python",
   "name": "python",
   "nbconvert_exporter": "python",
   "pygments_lexer": "ipython3",
   "version": "3.8.2"
  },
  "vscode": {
   "interpreter": {
    "hash": "de57e28909dfb2671530bae44b33e2be109b3d90a9cd64e4fc6cd39e7a53a3db"
   }
  }
 },
 "nbformat": 4,
 "nbformat_minor": 2
}

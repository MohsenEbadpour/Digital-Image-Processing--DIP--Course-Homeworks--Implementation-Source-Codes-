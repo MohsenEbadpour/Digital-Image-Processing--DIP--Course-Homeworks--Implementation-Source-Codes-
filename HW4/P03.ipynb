{
 "cells": [
  {
   "cell_type": "code",
   "execution_count": null,
   "metadata": {},
   "outputs": [],
   "source": [
    "import numpy as np \n",
    "import cv2 \n",
    "import matplotlib.pyplot as plt \n",
    "from scipy.interpolate import NearestNDInterpolator\n",
    "from math import * \n",
    "plt.rcParams['figure.figsize'] = [12, 9]\n",
    "\n"
   ]
  },
  {
   "cell_type": "code",
   "execution_count": null,
   "metadata": {},
   "outputs": [],
   "source": [
    "img_1 = cv2.imread(\"./inputs/P3/sonderkommando_photographs_280.png\",0)\n",
    "img_2 = cv2.imread(\"./inputs/P3/sonderkommando_photographs_281.png\",0)\n",
    "\n",
    "img_1_points = np.array([[319, 406], [138, 406], [138, 159],[319, 111]], dtype=np.float32)\n",
    "img_2_points = np.array([[331, 380],[174, 370] , [158,100], [324, 100]], dtype=np.float32)"
   ]
  },
  {
   "cell_type": "code",
   "execution_count": null,
   "metadata": {},
   "outputs": [],
   "source": [
    "def GeoTransform(img,orginal_points):\n",
    "    window = 6\n",
    "\n",
    "    selected_p_img = img.copy()\n",
    "    for point in orginal_points:\n",
    "        point = point.astype(np.int32)\n",
    "        cv2.rectangle(selected_p_img,(point[0]-window,point[1]-window),\n",
    "                         (point[0]+window,point[1]+window),(255),3)\n",
    "        \n",
    "    new_w = int((np.linalg.norm((orginal_points[0]+orginal_points[3])/2 - (orginal_points[1]+orginal_points[2])/2))*1.3)\n",
    "    new_h = int(np.linalg.norm((orginal_points[0]+orginal_points[1])/2 - (orginal_points[2]+orginal_points[3])/2))\n",
    "\n",
    "\n",
    "    out_put_points = np.array([[0, 0], [new_w, 0], [new_w, new_h], [0, new_h]], dtype=np.float32)\n",
    "\n",
    "    Transformer= cv2.getPerspectiveTransform(orginal_points, out_put_points)\n",
    "    print(Transformer)\n",
    "    out_put_img = cv2.warpPerspective(img, Transformer, (new_w, new_h))\n",
    "    out_put_img = cv2.rotate(out_put_img,cv2.ROTATE_180)\n",
    "    return selected_p_img,out_put_img\n",
    "\n",
    "\n",
    "def gammaCorrection(src, gamma):\n",
    "    invGamma = 1 / gamma\n",
    "\n",
    "    table = [((i / 255) ** invGamma) * 255 for i in range(256)]\n",
    "    table = np.array(table, np.uint8)\n",
    "\n",
    "    return cv2.LUT(src, table)\n",
    "\n",
    "def Enhance_2(out):\n",
    "    \n",
    "    out = out.copy()\n",
    "    img = cv2.fastNlMeansDenoising(out,h=11)\n",
    "    img_out_1 = img.copy()\n",
    "    \n",
    "    sharpen_kernel = np.array([[-1,-1,-1], [-1,9,-1], [-1,-1,-1]])\n",
    "    img = cv2.filter2D(img, -1, sharpen_kernel)\n",
    "    img_out_2 = img.copy()\n",
    "    \n",
    "    img = gammaCorrection(img,1.7)\n",
    "    \n",
    "    return img_out_1,img_out_2,img\n",
    "\n",
    "\n",
    "def handle(_in:int):\n",
    "    if _in ==1 :\n",
    "        img = img_1\n",
    "        pnts = img_1_points\n",
    "    else:\n",
    "        img = img_2\n",
    "        pnts = img_2_points\n",
    "        \n",
    "    selec,out = GeoTransform(img,pnts)\n",
    "    cont,shar,enhance = Enhance_2(out)\n",
    "    \n",
    "    results = [img,selec,out,cont,shar,enhance]\n",
    "    tags = [\"Orginal Input\",\"Selected points to transform\",\"Geometric Transformations\",\"Denoise with NlMean\",\"Deblur with laplacian\",\"Gamma Correction\"]\n",
    "    plt.rcParams['figure.figsize'] = [12, 9]\n",
    "    for index in range(6):\n",
    "        plt.subplot(2,3,index+1)\n",
    "        plt.imshow(results[index],cmap=\"gray\")\n",
    "        plt.axis(\"off\")\n",
    "        plt.title(tags[index])\n",
    "        \n",
    "    plt.tight_layout()\n",
    "    plt.show()\n",
    "    \n",
    "    plt.rcParams['figure.figsize'] = [8, 6]\n",
    "    plt.subplot(1,2,1)\n",
    "    plt.imshow(results[0],cmap=\"gray\")\n",
    "    plt.axis(\"off\")\n",
    "    plt.title(tags[0])\n",
    "    \n",
    "    plt.subplot(1,2,2)\n",
    "    plt.imshow(results[-1],cmap=\"gray\")\n",
    "    plt.axis(\"off\")\n",
    "    plt.title(tags[-1])\n",
    "    \n",
    "    plt.tight_layout()\n",
    "    plt.show()\n",
    "    \n",
    "    \n",
    "    \n",
    "handle(1)\n",
    "handle(2)"
   ]
  },
  {
   "cell_type": "code",
   "execution_count": null,
   "metadata": {},
   "outputs": [],
   "source": []
  },
  {
   "cell_type": "code",
   "execution_count": null,
   "metadata": {},
   "outputs": [],
   "source": []
  }
 ],
 "metadata": {
  "kernelspec": {
   "display_name": "Python 3",
   "language": "python",
   "name": "python3"
  },
  "language_info": {
   "codemirror_mode": {
    "name": "ipython",
    "version": 3
   },
   "file_extension": ".py",
   "mimetype": "text/x-python",
   "name": "python",
   "nbconvert_exporter": "python",
   "pygments_lexer": "ipython3",
   "version": "3.8.2"
  },
  "vscode": {
   "interpreter": {
    "hash": "de57e28909dfb2671530bae44b33e2be109b3d90a9cd64e4fc6cd39e7a53a3db"
   }
  }
 },
 "nbformat": 4,
 "nbformat_minor": 2
}

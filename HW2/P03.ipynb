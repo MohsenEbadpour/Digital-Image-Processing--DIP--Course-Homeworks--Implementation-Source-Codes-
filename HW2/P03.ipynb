{
 "cells": [
  {
   "cell_type": "code",
   "execution_count": 1,
   "metadata": {},
   "outputs": [],
   "source": [
    "import numpy as np \n",
    "import cv2 \n",
    "from matplotlib import pyplot as plt \n",
    "import glob\n",
    "\n",
    "plt.rcParams['figure.figsize'] = [9, 6]"
   ]
  },
  {
   "cell_type": "markdown",
   "metadata": {},
   "source": [
    "### LoadFrames "
   ]
  },
  {
   "cell_type": "code",
   "execution_count": 2,
   "metadata": {},
   "outputs": [],
   "source": [
    "Frames = []\n",
    "Path = glob.glob(\"./inputs/P3/frames/*.png\")\n",
    "Path.sort()\n",
    "for img in Path:\n",
    "    img = cv2.imread(img)\n",
    "    Frames.append(img)\n",
    "Frames = np.array(Frames)\n",
    "MeanBack = []\n",
    "MedianBack = []"
   ]
  },
  {
   "cell_type": "markdown",
   "metadata": {},
   "source": [
    "### Load Tests"
   ]
  },
  {
   "cell_type": "code",
   "execution_count": 3,
   "metadata": {},
   "outputs": [],
   "source": [
    "Tests = []\n",
    "Path = glob.glob(\"./inputs/P3/tests/*.png\")\n",
    "Path.sort()\n",
    "for img in Path:\n",
    "    img = cv2.imread(img)\n",
    "    Tests.append(img)"
   ]
  },
  {
   "cell_type": "markdown",
   "metadata": {},
   "source": [
    "### Estimate background"
   ]
  },
  {
   "cell_type": "code",
   "execution_count": 4,
   "metadata": {},
   "outputs": [],
   "source": [
    "def estimate_background(n=20,med=False):\n",
    "    back = np.zeros_like(Frames[0])\n",
    "    for row in range(Frames[0].shape[0]):\n",
    "        for col in range(Frames[0].shape[1]):\n",
    "            items = Frames[:n,row,col,:]\n",
    "            if not med :\n",
    "                back[row,col,:] = np.mean(np.array(items),axis=0)\n",
    "            else :\n",
    "                back[row,col,:] = np.median(np.array(items),axis=0)\n",
    "                \n",
    "    return back"
   ]
  },
  {
   "cell_type": "markdown",
   "metadata": {},
   "source": [
    "### A"
   ]
  },
  {
   "cell_type": "code",
   "execution_count": 5,
   "metadata": {},
   "outputs": [
    {
     "name": "stdout",
     "output_type": "stream",
     "text": [
      "Proc:  2\n",
      "Current len:  1\n",
      "Proc:  5\n",
      "Current len:  2\n",
      "Proc:  10\n",
      "Current len:  3\n",
      "Proc:  20\n",
      "Current len:  4\n"
     ]
    }
   ],
   "source": [
    "for n in [2,5,10,20]:\n",
    "    print(\"Proc: \",n)\n",
    "    MeanBack.append(estimate_background(n,False))\n",
    "    print(\"Current len: \",len(MeanBack))"
   ]
  },
  {
   "cell_type": "code",
   "execution_count": 6,
   "metadata": {},
   "outputs": [
    {
     "data": {
      "text/plain": [
       "True"
      ]
     },
     "execution_count": 6,
     "metadata": {},
     "output_type": "execute_result"
    }
   ],
   "source": [
    "tmp = cv2.vconcat(MeanBack)\n",
    "cv2.imwrite(\"./outputs/P03/a.png\",tmp)"
   ]
  },
  {
   "cell_type": "markdown",
   "metadata": {},
   "source": [
    "### B"
   ]
  },
  {
   "cell_type": "code",
   "execution_count": 11,
   "metadata": {},
   "outputs": [],
   "source": [
    "for i in range(2): \n",
    "    test = Tests[i] \n",
    "    results = []\n",
    "    for back in MeanBack :\n",
    "        results.append(cv2.subtract(back,test))\n",
    "    tmp = cv2.vconcat(results)\n",
    "    tmp = cv2.cvtColor(tmp,cv2.COLOR_BGR2GRAY)\n",
    "    cv2.imwrite(\"./outputs/P03/b-test-{0}.png\".format(i+1),tmp)\n",
    "        "
   ]
  },
  {
   "cell_type": "markdown",
   "metadata": {},
   "source": [
    "### C"
   ]
  },
  {
   "cell_type": "code",
   "execution_count": 96,
   "metadata": {},
   "outputs": [
    {
     "name": "stdout",
     "output_type": "stream",
     "text": [
      "36.0\n",
      "32.6\n",
      "32.0\n",
      "33.8\n",
      "41.4\n",
      "41.4\n",
      "37.4\n",
      "32.8\n"
     ]
    }
   ],
   "source": [
    "for i in range(2): \n",
    "    test = Tests[i] \n",
    "    results = []\n",
    "    for back in MeanBack :\n",
    "        _sub = cv2.subtract(back,test)\n",
    "        #_sub = cv2.cvtColor(_sub,cv2.COLOR_BGR2GRAY)\n",
    "        thresh = np.histogram(_sub.flatten())[1][2]\n",
    "        _, mask = cv2.threshold(_sub, thresh, 255, cv2.THRESH_BINARY)\n",
    "        results.append(mask)\n",
    "        print(thresh)\n",
    "        \n",
    "    cv2.imwrite(\"./outputs/P03/c-test-{0}.png\".format(i+1),cv2.vconcat(results))\n"
   ]
  },
  {
   "cell_type": "markdown",
   "metadata": {},
   "source": [
    "### D"
   ]
  },
  {
   "cell_type": "code",
   "execution_count": 97,
   "metadata": {},
   "outputs": [],
   "source": [
    "for i in range(2): \n",
    "    test = Tests[i] \n",
    "    results = []\n",
    "    for back in MeanBack :\n",
    "        _sub = cv2.subtract(back,test)\n",
    "        _sub = cv2.cvtColor(_sub,cv2.COLOR_BGR2GRAY)\n",
    "        thresh = np.histogram(_sub.flatten())[1][2]\n",
    "        _, mask = cv2.threshold(_sub, thresh, 255, cv2.THRESH_BINARY)\n",
    "        masked = cv2.bitwise_and(test, test, mask=mask)\n",
    "        results.append(masked)\n",
    "        \n",
    "    cv2.imwrite(\"./outputs/P03/d-test-{0}.png\".format(i+1),cv2.vconcat(results))\n",
    "\n",
    "\n"
   ]
  },
  {
   "cell_type": "markdown",
   "metadata": {},
   "source": [
    "### E"
   ]
  },
  {
   "cell_type": "code",
   "execution_count": 39,
   "metadata": {},
   "outputs": [
    {
     "name": "stdout",
     "output_type": "stream",
     "text": [
      "Proc:  2\n",
      "Current len:  1\n",
      "Proc:  5\n",
      "Current len:  2\n",
      "Proc:  10\n",
      "Current len:  3\n",
      "Proc:  20\n",
      "Current len:  4\n"
     ]
    }
   ],
   "source": [
    "for n in [2,5,10,20]:\n",
    "    print(\"Proc: \",n)\n",
    "    MedianBack.append(estimate_background(n,True))\n",
    "    print(\"Current len: \",len(MedianBack))\n",
    "    \n",
    "tmp = cv2.vconcat(MedianBack)\n",
    "cv2.imwrite(\"./outputs/P03/E-a.png\",tmp)\n",
    "\n",
    "for i in range(2): \n",
    "    test = Tests[i] \n",
    "    results = []\n",
    "    for back in MedianBack :\n",
    "        results.append(cv2.subtract(back,test))\n",
    "    tmp = cv2.vconcat(results)\n",
    "    tmp = cv2.cvtColor(tmp,cv2.COLOR_BGR2GRAY)\n",
    "    cv2.imwrite(\"./outputs/P03/E-b-test-{0}.png\".format(i+1),tmp)\n",
    "        \n",
    "    \n",
    "for i in range(2): \n",
    "    test = Tests[i] \n",
    "    results = []\n",
    "    for back in MedianBack :\n",
    "        _sub = cv2.subtract(back,test)\n",
    "        _sub = cv2.cvtColor(_sub,cv2.COLOR_BGR2GRAY)\n",
    "        thresh = np.histogram(_sub.flatten())[1][2]\n",
    "        _, mask = cv2.threshold(_sub, thresh, 255, cv2.THRESH_BINARY)\n",
    "        results.append(mask)\n",
    "        \n",
    "    cv2.imwrite(\"./outputs/P03/E-c-test-{0}.png\".format(i+1),cv2.vconcat(results))\n",
    "    \n",
    "for i in range(2): \n",
    "    test = Tests[i] \n",
    "    results = []\n",
    "    for back in MedianBack :\n",
    "        _sub = cv2.subtract(back,test)\n",
    "        _sub = cv2.cvtColor(_sub,cv2.COLOR_BGR2GRAY)\n",
    "        thresh = np.histogram(_sub.flatten())[1][2]\n",
    "        _, mask = cv2.threshold(_sub, thresh, 255, cv2.THRESH_BINARY)\n",
    "        masked = cv2.bitwise_and(test, test, mask=mask)\n",
    "        results.append(masked)\n",
    "        \n",
    "    cv2.imwrite(\"./outputs/P03/E-d-test-{0}.png\".format(i+1),cv2.vconcat(results))\n",
    "\n",
    "\n",
    "\n"
   ]
  },
  {
   "cell_type": "markdown",
   "metadata": {},
   "source": [
    "### F"
   ]
  },
  {
   "cell_type": "code",
   "execution_count": 62,
   "metadata": {},
   "outputs": [
    {
     "name": "stdout",
     "output_type": "stream",
     "text": [
      "Proc test #1:\n",
      "-> Count of pedestrians extracted(Averaging filter):  18\n",
      "-> Count of pedestrians extracted(Averaging filter):  16\n",
      "-> Count of pedestrians extracted(Averaging filter):  16\n",
      "-> Count of pedestrians extracted(Averaging filter):  15\n",
      "Proc test #2:\n",
      "-> Count of pedestrians extracted(Averaging filter):  18\n",
      "-> Count of pedestrians extracted(Averaging filter):  18\n",
      "-> Count of pedestrians extracted(Averaging filter):  18\n",
      "-> Count of pedestrians extracted(Averaging filter):  20\n"
     ]
    }
   ],
   "source": [
    "\n",
    "def counting_pedestrians_avg():\n",
    "    for i in range(2): \n",
    "        print(\"Proc test #{0}:\".format(i+1))\n",
    "        test = Tests[i] \n",
    "        show_result = []\n",
    "        for back in MedianBack :\n",
    "            _sub = cv2.subtract(back,test)\n",
    "            _sub = cv2.cvtColor(_sub,cv2.COLOR_BGR2GRAY)\n",
    "            thresh = np.histogram(_sub.flatten())[1][2]\n",
    "            _, mask = cv2.threshold(_sub, thresh, 255, cv2.THRESH_BINARY)\n",
    "            mask =cv2.blur(mask,(9,9))\n",
    "            _, mask = cv2.threshold(mask, 200, 255, cv2.THRESH_BINARY)\n",
    "            show_result.append(mask)\n",
    "            \n",
    "            ret, labels = cv2.connectedComponents(mask, connectivity=4)\n",
    "            unique, counts = np.unique(labels, return_counts=True)\n",
    "\n",
    "            print(\"-> Count of pedestrians extracted(Averaging filter): \",sum(counts>300))\n",
    "            \n",
    "        cv2.imwrite(\"./outputs/P03/f-test-averaging-{0}.png\".format(i+1),cv2.vconcat(show_result))\n",
    "        \n",
    "        \n",
    "counting_pedestrians_avg()    "
   ]
  },
  {
   "cell_type": "code",
   "execution_count": 64,
   "metadata": {},
   "outputs": [
    {
     "name": "stdout",
     "output_type": "stream",
     "text": [
      "Proc test #1:\n",
      "-> Count of pedestrians extracted(Gaussian filter):  20\n",
      "-> Count of pedestrians extracted(Gaussian filter):  16\n",
      "-> Count of pedestrians extracted(Gaussian filter):  16\n",
      "-> Count of pedestrians extracted(Gaussian filter):  16\n",
      "Proc test #2:\n",
      "-> Count of pedestrians extracted(Gaussian filter):  21\n",
      "-> Count of pedestrians extracted(Gaussian filter):  20\n",
      "-> Count of pedestrians extracted(Gaussian filter):  19\n",
      "-> Count of pedestrians extracted(Gaussian filter):  21\n"
     ]
    }
   ],
   "source": [
    "def counting_pedestrians_gaussian():\n",
    "    for i in range(2): \n",
    "        print(\"Proc test #{0}:\".format(i+1))\n",
    "        test = Tests[i] \n",
    "        show_result = []\n",
    "        for back in MedianBack :\n",
    "            _sub = cv2.subtract(back,test)\n",
    "            _sub = cv2.cvtColor(_sub,cv2.COLOR_BGR2GRAY)\n",
    "            thresh = np.histogram(_sub.flatten())[1][2]\n",
    "            _, mask = cv2.threshold(_sub, thresh, 255, cv2.THRESH_BINARY)\n",
    "            \n",
    "            mask =cv2.GaussianBlur(mask,(9,9),0)\n",
    "            _, mask = cv2.threshold(mask, 200, 255, cv2.THRESH_BINARY)\n",
    "            show_result.append(mask)\n",
    "            \n",
    "            ret, labels = cv2.connectedComponents(mask, connectivity=4)\n",
    "            unique, counts = np.unique(labels, return_counts=True)\n",
    "\n",
    "            print(\"-> Count of pedestrians extracted(Gaussian filter): \",sum(counts>300))\n",
    "            \n",
    "        cv2.imwrite(\"./outputs/P03/f-test-Gaussian-{0}.png\".format(i+1),cv2.vconcat(show_result))\n",
    "        \n",
    "        \n",
    "counting_pedestrians_gaussian()    "
   ]
  },
  {
   "cell_type": "code",
   "execution_count": 65,
   "metadata": {},
   "outputs": [
    {
     "name": "stdout",
     "output_type": "stream",
     "text": [
      "Proc test #1:\n",
      "-> Count of pedestrians extracted(Median filter):  22\n",
      "-> Count of pedestrians extracted(Median filter):  16\n",
      "-> Count of pedestrians extracted(Median filter):  18\n",
      "-> Count of pedestrians extracted(Median filter):  17\n",
      "Proc test #2:\n",
      "-> Count of pedestrians extracted(Median filter):  24\n",
      "-> Count of pedestrians extracted(Median filter):  21\n",
      "-> Count of pedestrians extracted(Median filter):  21\n",
      "-> Count of pedestrians extracted(Median filter):  23\n"
     ]
    }
   ],
   "source": [
    "def counting_pedestrians_Median():\n",
    "    for i in range(2): \n",
    "        print(\"Proc test #{0}:\".format(i+1))\n",
    "        test = Tests[i] \n",
    "        show_result = []\n",
    "        for back in MedianBack :\n",
    "            _sub = cv2.subtract(back,test)\n",
    "            _sub = cv2.cvtColor(_sub,cv2.COLOR_BGR2GRAY)\n",
    "            thresh = np.histogram(_sub.flatten())[1][2]\n",
    "            _, mask = cv2.threshold(_sub, thresh, 255, cv2.THRESH_BINARY)\n",
    "            \n",
    "            mask =cv2.medianBlur(mask,5)\n",
    "            _, mask = cv2.threshold(mask, 200, 255, cv2.THRESH_BINARY)\n",
    "            show_result.append(mask)\n",
    "            \n",
    "            ret, labels = cv2.connectedComponents(mask, connectivity=4)\n",
    "            unique, counts = np.unique(labels, return_counts=True)\n",
    "\n",
    "            print(\"-> Count of pedestrians extracted(Median filter): \",sum(counts>300))\n",
    "            \n",
    "        cv2.imwrite(\"./outputs/P03/f-test-Median-{0}.png\".format(i+1),cv2.vconcat(show_result))\n",
    "        \n",
    "        \n",
    "counting_pedestrians_Median()    "
   ]
  },
  {
   "cell_type": "code",
   "execution_count": null,
   "metadata": {},
   "outputs": [],
   "source": []
  },
  {
   "cell_type": "code",
   "execution_count": null,
   "metadata": {},
   "outputs": [],
   "source": []
  },
  {
   "cell_type": "code",
   "execution_count": null,
   "metadata": {},
   "outputs": [],
   "source": []
  }
 ],
 "metadata": {
  "interpreter": {
   "hash": "de57e28909dfb2671530bae44b33e2be109b3d90a9cd64e4fc6cd39e7a53a3db"
  },
  "kernelspec": {
   "display_name": "Python 3.8.2 64-bit",
   "language": "python",
   "name": "python3"
  },
  "language_info": {
   "codemirror_mode": {
    "name": "ipython",
    "version": 3
   },
   "file_extension": ".py",
   "mimetype": "text/x-python",
   "name": "python",
   "nbconvert_exporter": "python",
   "pygments_lexer": "ipython3",
   "version": "3.8.2"
  },
  "orig_nbformat": 4
 },
 "nbformat": 4,
 "nbformat_minor": 2
}

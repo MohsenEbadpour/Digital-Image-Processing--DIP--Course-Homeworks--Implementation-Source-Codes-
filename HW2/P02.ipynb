{
 "cells": [
  {
   "cell_type": "code",
   "execution_count": 1,
   "metadata": {},
   "outputs": [],
   "source": [
    "import numpy as np \n",
    "import cv2 \n",
    "from matplotlib import pyplot as plt \n",
    "\n",
    "plt.rcParams['figure.figsize'] = [30, 10]"
   ]
  },
  {
   "cell_type": "code",
   "execution_count": 2,
   "metadata": {},
   "outputs": [],
   "source": [
    "def save_slices(img):\n",
    "    h1 = cv2.hconcat([img[:,:,0],img[:,:,1],img[:,:,2],img[:,:,3]])\n",
    "    h2 = cv2.hconcat([img[:,:,4],img[:,:,5],img[:,:,6],img[:,:,7]])\n",
    "    return cv2.vconcat([h1,h2])\n",
    "\n",
    "\n",
    "def get_bin(i):\n",
    "    binary = bin(i).replace('0b','')\n",
    "    while len(binary) < 8:\n",
    "        binary = '0' + binary\n",
    "    return binary\n",
    "\n",
    "def bitplane_slice(image:np.array):\n",
    "    img = image.copy()\n",
    "    img = cv2.cvtColor(img,cv2.COLOR_BGR2GRAY)\n",
    "    h,w = img.shape\n",
    "    slices = np.zeros(shape=(h,w,8))\n",
    "    for row in range(h):\n",
    "        for col in range(w):\n",
    "            b = get_bin(img[row,col])\n",
    "            for index in range(8):\n",
    "                slices[row,col,index] = int(b[index])\n",
    "    \n",
    "    return slices\n",
    "\n",
    "def xor_slices (img1,img2):\n",
    "    return np.array(np.logical_xor(img1,img2),dtype=np.uint8)\n",
    "\n",
    "def get_moving_objs(img):\n",
    "    h,w,_ = img.shape\n",
    "    result = np.zeros(shape=(h,w))\n",
    "    for row in range(h):\n",
    "        for col in range(w):\n",
    "            tmp = 0 \n",
    "            for index in range(7,3,-1):\n",
    "                tmp += 2**index * img[row,col,7-index]\n",
    "            if tmp >= 80 :\n",
    "                result[row,col] = tmp \n",
    "    return result.astype(np.uint8)\n",
    "\n",
    "def enhancement(img):\n",
    "    denoise = cv2.fastNlMeansDenoising(img,None,32,32,12)\n",
    "    ret,thresh = cv2.threshold(denoise,28,127,cv2.THRESH_BINARY)\n",
    "    return denoise,thresh\n",
    "    \n"
   ]
  },
  {
   "cell_type": "code",
   "execution_count": 3,
   "metadata": {},
   "outputs": [
    {
     "name": "stdout",
     "output_type": "stream",
     "text": [
      "(1920, 5120)\n",
      "(1920, 5120)\n",
      "(1920, 5120)\n"
     ]
    },
    {
     "data": {
      "text/plain": [
       "<Figure size 2160x720 with 0 Axes>"
      ]
     },
     "metadata": {},
     "output_type": "display_data"
    }
   ],
   "source": [
    "for i in range(3):\n",
    "    img1 = cv2.imread(\"./inputs/P2/football_f{0}_01.png\".format(i+1))\n",
    "    img2 = cv2.imread(\"./inputs/P2/football_f{0}_02.png\".format(i+1))\n",
    "    \n",
    "    img1_b = bitplane_slice(img1)\n",
    "    img2_b = bitplane_slice(img2)\n",
    "    slices_1 = cv2.threshold(save_slices(img1_b), 0.5, 255, cv2.THRESH_BINARY)[1]\n",
    "    slices_2 = cv2.threshold(save_slices(img2_b), 0.5, 255, cv2.THRESH_BINARY)[1]\n",
    "    cv2.imwrite(\"./outputs/P02/bitplane-slices-f{0}-frame-1.png\".format(i+1),slices_1)\n",
    "    cv2.imwrite(\"./outputs/P02/bitplane-slices-f{0}-frame-2.png\".format(i+1),slices_2)\n",
    "\n",
    "    xor_ = xor_slices(img1_b,img2_b)\n",
    "    xor_save = save_slices(xor_)\n",
    "    print(xor_save.shape)\n",
    "    img_binary = cv2.threshold(xor_save, 0.5, 255, cv2.THRESH_BINARY)[1]\n",
    "    cv2.imwrite(\"./outputs/P02/bitplane-slices-f{0}-xor.png\".format(i+1),img_binary)\n",
    "    \n",
    "    objs = get_moving_objs(xor_)\n",
    "    denoise,thresh = enhancement(objs)\n",
    "    \n",
    "    plt.subplot(1,3,1)\n",
    "    plt.imshow(objs,cmap=\"gray\")\n",
    "    plt.axis(\"off\")\n",
    "    plt.title(\"Obtained by 4 higher bit-planes\")\n",
    "    plt.subplot(1,3,2)\n",
    "    plt.imshow(denoise,cmap=\"gray\")\n",
    "    plt.axis(\"off\")\n",
    "    plt.title(\"Denoised by Mean filter\")\n",
    "    plt.subplot(1,3,3)\n",
    "    plt.imshow(thresh,cmap=\"gray\")\n",
    "    plt.axis(\"off\")\n",
    "    plt.title(\"Threshold on denoised result\")\n",
    "    plt.savefig(\"./outputs/P02/moving-objs-f{0}.png\".format(i+1))\n",
    "    plt.clf()\n",
    "            \n",
    "            \n",
    "    "
   ]
  },
  {
   "cell_type": "code",
   "execution_count": null,
   "metadata": {},
   "outputs": [],
   "source": []
  }
 ],
 "metadata": {
  "interpreter": {
   "hash": "2f58f5e3d824a28f35e64a3b79d7f63edde6993a3dcc3aa79d0be3205de7b8a2"
  },
  "kernelspec": {
   "display_name": "Python 3.8.2 64-bit",
   "language": "python",
   "name": "python3"
  },
  "language_info": {
   "codemirror_mode": {
    "name": "ipython",
    "version": 3
   },
   "file_extension": ".py",
   "mimetype": "text/x-python",
   "name": "python",
   "nbconvert_exporter": "python",
   "pygments_lexer": "ipython3",
   "version": "3.8.2"
  },
  "orig_nbformat": 4
 },
 "nbformat": 4,
 "nbformat_minor": 2
}

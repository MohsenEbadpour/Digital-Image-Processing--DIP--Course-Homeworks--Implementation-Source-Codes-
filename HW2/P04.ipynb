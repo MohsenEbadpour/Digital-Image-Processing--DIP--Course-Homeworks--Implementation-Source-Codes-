{
 "cells": [
  {
   "cell_type": "code",
   "execution_count": 12,
   "metadata": {},
   "outputs": [],
   "source": [
    "import numpy as np\n",
    "import matplotlib.pyplot as plt \n",
    "import cv2 \n"
   ]
  },
  {
   "cell_type": "markdown",
   "metadata": {},
   "source": [
    "### Load images"
   ]
  },
  {
   "cell_type": "code",
   "execution_count": 13,
   "metadata": {},
   "outputs": [],
   "source": [
    "def resize_(img,p=50):\n",
    "    width = int(img.shape[1] * p / 100)\n",
    "    height = int(img.shape[0] * p / 100)\n",
    "    resized = cv2.resize(img, (width, height), interpolation = cv2.INTER_AREA)\n",
    "    return resized\n",
    "\n",
    "zel = resize_(cv2.imread(\"./inputs/P4/zelensky.png\"))\n",
    "zel_mask = resize_(cv2.imread(\"./inputs/P4/zelensky_mask.png\"))\n",
    "put = resize_(cv2.imread(\"./inputs/P4//putin.png\"))\n",
    "put_mask = resize_(cv2.imread(\"./inputs/P4/putin_mask.png\"))\n"
   ]
  },
  {
   "cell_type": "markdown",
   "metadata": {},
   "source": [
    "### A"
   ]
  },
  {
   "cell_type": "code",
   "execution_count": 14,
   "metadata": {},
   "outputs": [],
   "source": [
    "def bilateral_weight(i,j,k,l,img,sigma_d,sigma_r):\n",
    "    tmp_1 = ((i-k)**2 + (j-l)**2)/(2*sigma_d**2)\n",
    "    tmp_2 = (np.linalg.norm(img[i,j]-img[k,l]))**2/(2*sigma_r**2)\n",
    "    tmp_3 = (-1)*(tmp_1 + tmp_2)\n",
    "    return np.exp(tmp_3)\n",
    "\n",
    "def bilateral_filter(img:np.array,r,sigma_d,sigma_r):\n",
    "    shape = img.shape \n",
    "    out = np.zeros_like(img)\n",
    "    for i in range(shape[0]):\n",
    "        for j in range(shape[1]):\n",
    "            sigma_w = 0 \n",
    "            f_out = np.array([0,0,0]) \n",
    "            for k in range(i-r,i+r+1):\n",
    "                for l in range(j-r,j+r+1):\n",
    "                    if k < 0 or l < 0 or k>= shape[0] or l >= shape[1]:\n",
    "                        continue\n",
    "                    w = bilateral_weight(i,j,k,l,img,sigma_d,sigma_r)\n",
    "                    sigma_w += w \n",
    "                    np.add(f_out, w*img[k,l,:], out=f_out, casting=\"unsafe\")\n",
    "                    \n",
    "            out[i,j,:] = f_out / sigma_w\n",
    "            \n",
    "    return out\n",
    " \n"
   ]
  },
  {
   "cell_type": "markdown",
   "metadata": {},
   "source": [
    "### B"
   ]
  },
  {
   "cell_type": "code",
   "execution_count": 15,
   "metadata": {},
   "outputs": [],
   "source": [
    "results = []\n",
    "R = [2,4,6,8]\n",
    "sigma_R = [10,45,80]\n",
    "sigma_D = [10,45,80]\n",
    "for s_d in sigma_D:\n",
    "    for s_r in sigma_R:\n",
    "        for r in R:\n",
    "            results.append(bilateral_filter(put,r,s_d,s_r)) \n"
   ]
  },
  {
   "cell_type": "code",
   "execution_count": 16,
   "metadata": {},
   "outputs": [
    {
     "data": {
      "text/plain": [
       "True"
      ]
     },
     "execution_count": 16,
     "metadata": {},
     "output_type": "execute_result"
    }
   ],
   "source": [
    "show = []\n",
    "for i in range(0,len(results),4):\n",
    "    show.append(cv2.hconcat(results[i:i+4]))\n",
    "out = cv2.vconcat(show)\n",
    "cv2.imwrite(\"./outputs/P04/play-with-parameters.png\",out)"
   ]
  },
  {
   "cell_type": "markdown",
   "metadata": {},
   "source": [
    "### C & D"
   ]
  },
  {
   "cell_type": "code",
   "execution_count": 17,
   "metadata": {},
   "outputs": [
    {
     "data": {
      "image/png": "[encoded data removed]",
      "text/plain": [
       "<Figure size 432x288 with 1 Axes>"
      ]
     },
     "metadata": {
      "needs_background": "light"
     },
     "output_type": "display_data"
    },
    {
     "data": {
      "image/png": "[encoded data removed]",
      "text/plain": [
       "<Figure size 432x288 with 1 Axes>"
      ]
     },
     "metadata": {
      "needs_background": "light"
     },
     "output_type": "display_data"
    }
   ],
   "source": [
    "Test = [put,zel]\n",
    "Names = [\"Putin\",\"Zelensky\"]\n",
    "def color_image(img,name):\n",
    "    out = np.zeros((img.shape[0],img.shape[1],3),dtype=np.uint8)\n",
    "    if name == \"Putin\":\n",
    "        for row in range(img.shape[0]):\n",
    "            for col in range(img.shape[1]):\n",
    "                val = img[row,col]\n",
    "                if val < 55 :\n",
    "                   out[row,col,:] = (0,48,80)\n",
    "                elif  val < 75 :\n",
    "                    out[row,col,:] = (112,150,160)\n",
    "                elif val < 125:\n",
    "                    out[row,col,:] = (218, 20, 21)\n",
    "                else :\n",
    "                    out[row,col,:] = (250, 227, 173)\n",
    "         \n",
    "        out_mask = cv2.bitwise_and(out, out, mask=put_mask[:,:,0])\n",
    "        for row in range(img.shape[0]):\n",
    "            for col in range(img.shape[1]):\n",
    "                if out_mask[row,col,2] != 0 :\n",
    "                    continue\n",
    "                if col <img.shape[1]/2:\n",
    "                    out_mask[row,col,:] = (218, 20, 21)\n",
    "                else:\n",
    "                    out_mask[row,col,:] = (112,150,160)\n",
    "    else:\n",
    "        for row in range(img.shape[0]):\n",
    "            for col in range(img.shape[1]):\n",
    "                val = img[row,col]\n",
    "                if val < 70 :\n",
    "                   out[row,col,:] = (0,48,80)\n",
    "                elif  val < 105 :\n",
    "                    out[row,col,:] = (112,150,160)\n",
    "                elif val < 155:\n",
    "                    out[row,col,:] = (218, 20, 21)\n",
    "                else :\n",
    "                    out[row,col,:] = (250, 227, 173)\n",
    "         \n",
    "        out_mask = cv2.bitwise_and(out, out, mask=zel_mask[:,:,0])\n",
    "        for row in range(img.shape[0]):\n",
    "            for col in range(img.shape[1]):\n",
    "                if out_mask[row,col,2] != 0 :\n",
    "                    continue\n",
    "                if col <img.shape[1]/2:\n",
    "                    out_mask[row,col,:] = (218, 20, 21)\n",
    "                else:\n",
    "                    out_mask[row,col,:] = (112,150,160)\n",
    "    \n",
    "\n",
    "    out = cv2.cvtColor(out,cv2.COLOR_RGB2BGR)\n",
    "    out_mask = cv2.cvtColor(out_mask,cv2.COLOR_RGB2BGR)\n",
    "    return out,out_mask\n",
    "                    \n",
    "        \n",
    "                    \n",
    "for test_i in range(2):\n",
    "    result = []\n",
    "    test = Test[test_i]\n",
    "    result.append(test)\n",
    "    test = bilateral_filter(test,6,45,10)\n",
    "    result.append(test)\n",
    "    test = cv2.cvtColor(test,cv2.COLOR_BGR2GRAY)\n",
    "    tmp = cv2.cvtColor(test,cv2.COLOR_GRAY2BGR)\n",
    "    result.append(tmp)\n",
    "    plt.hist(test.flatten(),64)\n",
    "    plt.axis(\"off\")\n",
    "    plt.title(\"Histogram of {0} gray-scale pixle values\".format(Names[test_i]))\n",
    "    plt.show()\n",
    "    o,o_m = color_image(test,Names[test_i])\n",
    "    result.append(o)\n",
    "    result.append(o_m)\n",
    "    cv2.imwrite(\"./outputs/P04/{0}.png\".format(Names[test_i]),cv2.hconcat(result))\n",
    "    plt.show()"
   ]
  },
  {
   "cell_type": "markdown",
   "metadata": {},
   "source": [
    "### E"
   ]
  },
  {
   "cell_type": "code",
   "execution_count": 18,
   "metadata": {},
   "outputs": [
    {
     "data": {
      "text/plain": [
       "True"
      ]
     },
     "execution_count": 18,
     "metadata": {},
     "output_type": "execute_result"
    }
   ],
   "source": [
    "import random\n",
    "def color_random(img):\n",
    "    out = np.zeros((img.shape[0],img.shape[1],3),dtype=np.uint8)\n",
    "    ran = random.sample(list(range(256)),3)\n",
    "    ran.sort()\n",
    "    for row in range(img.shape[0]):\n",
    "        for col in range(img.shape[1]):\n",
    "            val = img[row,col]\n",
    "            if val < ran[0] :\n",
    "                out[row,col,:] = (0,48,80)\n",
    "            elif  val < ran[1] :\n",
    "                out[row,col,:] = (112,150,160)\n",
    "            elif val < ran[2]:\n",
    "                out[row,col,:] = (218, 20, 21)\n",
    "            else :\n",
    "                out[row,col,:] = (250, 227, 173)\n",
    "        \n",
    "    out_mask = cv2.bitwise_and(out, out, mask=zel_mask[:,:,0])\n",
    "    for row in range(img.shape[0]):\n",
    "        for col in range(img.shape[1]):\n",
    "            if out_mask[row,col,2] != 0 :\n",
    "                continue\n",
    "            if col <img.shape[1]/2:\n",
    "                out_mask[row,col,:] = (218, 20, 21)\n",
    "            else:\n",
    "                out_mask[row,col,:] = (112,150,160)\n",
    "\n",
    "\n",
    "    out = cv2.cvtColor(out,cv2.COLOR_RGB2BGR)\n",
    "    out_mask = cv2.cvtColor(out_mask,cv2.COLOR_RGB2BGR)\n",
    "    return out,out_mask       \n",
    "result = []\n",
    "test = Test[1]\n",
    "test = bilateral_filter(test,6,45,10)\n",
    "test = cv2.cvtColor(test,cv2.COLOR_BGR2GRAY)\n",
    "\n",
    "for _ in range(24):\n",
    "    o,o_m = color_random(test)\n",
    "    result.append(o_m)\n",
    "\n",
    "t1 = cv2.hconcat(result[:6])\n",
    "t2 = cv2.hconcat(result[6:12])\n",
    "t3 = cv2.hconcat(result[12:18])\n",
    "t4 = cv2.hconcat(result[18:24]) \n",
    "cv2.imwrite(\"./outputs/P04/{0}-random.png\".format(Names[test_i]),cv2.vconcat([t1,t2,t3,t4]))\n"
   ]
  },
  {
   "cell_type": "code",
   "execution_count": null,
   "metadata": {},
   "outputs": [],
   "source": []
  },
  {
   "cell_type": "code",
   "execution_count": null,
   "metadata": {},
   "outputs": [],
   "source": []
  }
 ],
 "metadata": {
  "interpreter": {
   "hash": "de57e28909dfb2671530bae44b33e2be109b3d90a9cd64e4fc6cd39e7a53a3db"
  },
  "kernelspec": {
   "display_name": "Python 3.8.2 64-bit",
   "language": "python",
   "name": "python3"
  },
  "language_info": {
   "codemirror_mode": {
    "name": "ipython",
    "version": 3
   },
   "file_extension": ".py",
   "mimetype": "text/x-python",
   "name": "python",
   "nbconvert_exporter": "python",
   "pygments_lexer": "ipython3",
   "version": "3.8.2"
  },
  "orig_nbformat": 4
 },
 "nbformat": 4,
 "nbformat_minor": 2
}

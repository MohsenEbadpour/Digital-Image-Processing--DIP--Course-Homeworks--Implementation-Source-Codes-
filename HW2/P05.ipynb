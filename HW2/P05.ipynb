{
 "cells": [
  {
   "cell_type": "code",
   "execution_count": null,
   "metadata": {},
   "outputs": [],
   "source": [
    "import cv2 \n",
    "import numpy as np \n",
    "import matplotlib.pyplot as plt\n",
    "import seaborn as sns\n",
    "plt.rcParams['figure.figsize'] = [10, 15]"
   ]
  },
  {
   "cell_type": "markdown",
   "metadata": {},
   "source": [
    "### Loading images"
   ]
  },
  {
   "cell_type": "code",
   "execution_count": null,
   "metadata": {},
   "outputs": [],
   "source": [
    "trump_ten = cv2.imread(\"./inputs/P5/donald_plays_tennis.png\")\n",
    "trump_golf = cv2.imread(\"./inputs/P5/donald_plays_golf.png\")\n",
    "\n",
    "COST = np.array([])\n",
    "IMG_WITH_SEAM = np.array([])\n",
    "GRAD = np.array([])"
   ]
  },
  {
   "cell_type": "markdown",
   "metadata": {},
   "source": [
    "### Asked Functions"
   ]
  },
  {
   "cell_type": "code",
   "execution_count": null,
   "metadata": {},
   "outputs": [],
   "source": [
    "def find_energy_map(img):\n",
    "    # input images are BGR\n",
    "    gray_scale = cv2.cvtColor(img,cv2.COLOR_BGR2GRAY)\n",
    "    return sum(map(abs,np.gradient(gray_scale)))\n"
   ]
  },
  {
   "cell_type": "code",
   "execution_count": null,
   "metadata": {},
   "outputs": [],
   "source": [
    "def get_cost_matrix(energy_map,i,j,cost=None,is_proc=None):\n",
    "    #check to possible indexes\n",
    "    if i <0 or j<0 or i>= energy_map.shape[0] or j >= energy_map.shape[1]:\n",
    "        return cost\n",
    "    \n",
    "    # if start of calculation\n",
    "    if is_proc is None :\n",
    "        is_proc = np.zeros_like(energy_map)\n",
    "        cost = np.zeros_like(energy_map)\n",
    "        # check to fill entire\n",
    "        for _ in range(energy_map.shape[1]):\n",
    "            cost = get_cost_matrix(energy_map,i,_,cost,is_proc)\n",
    "        return cost\n",
    "    \n",
    "    # check if calculated before       \n",
    "    if is_proc[i,j] == 1 or i-1 < 0:\n",
    "        return cost\n",
    "    \n",
    "    # collect top-3 cell\n",
    "    values = []\n",
    "    if  j-1 >= 0 :\n",
    "        values.append(get_cost_matrix(energy_map,i-1,j-1,cost,is_proc)[i-1,j-1])\n",
    "    if  j+1 < energy_map.shape[1] :\n",
    "        values.append(get_cost_matrix(energy_map,i-1,j+1,cost,is_proc)[i-1,j+1])\n",
    "    \n",
    "    values.append(get_cost_matrix(energy_map,i-1,j,cost,is_proc)[i-1,j])\n",
    "     \n",
    "    # update matrix   \n",
    "    cost[i,j] = energy_map[i,j] + min(values)\n",
    "    is_proc[i,j] = 1\n",
    "    return cost\n"
   ]
  },
  {
   "cell_type": "code",
   "execution_count": null,
   "metadata": {},
   "outputs": [],
   "source": [
    "def find_seams_list(energy_map,seam_dir, seam_num,img):\n",
    "    img = img.copy()\n",
    "    \n",
    "    # check direction to calculation\n",
    "    if seam_dir != \"vertical\":\n",
    "        energy_map = cv2.rotate(energy_map, cv2.ROTATE_90_CLOCKWISE) \n",
    "        img = cv2.rotate(img, cv2.ROTATE_90_CLOCKWISE) \n",
    "        \n",
    "    #store visual reports global\n",
    "    global GRAD\n",
    "    global COST \n",
    "    global IMG_WITH_SEAM \n",
    "    GRAD = energy_map\n",
    "        \n",
    "    #calculate Tottal cost matrix(M)\n",
    "    cost = get_cost_matrix(energy_map.copy(),energy_map.shape[0]-1,0)\n",
    "    \n",
    "    _cost = cost.copy()\n",
    "    if seam_dir != \"vertical\":     \n",
    "        _cost = cv2.rotate(_cost, cv2.ROTATE_90_COUNTERCLOCKWISE)\n",
    "    COST = _cost\n",
    "    \n",
    "    # result report\n",
    "    result = np.zeros((seam_num,cost.shape[0]))\n",
    "    \n",
    "    # a mask to control which cells(pixles) is deleted before\n",
    "    mask = np.zeros_like(cost)\n",
    "    \n",
    "    # sort last row/col to find minimal energy\n",
    "    sorted_cost = cost [cost.shape[0]-1,:].argsort()\n",
    "    \n",
    "    # select seams loop\n",
    "    for index in range(seam_num):\n",
    "        # select next postion to strat seam\n",
    "        j = sorted_cost[index]\n",
    "        \n",
    "        # update first postion in reports\n",
    "        img [cost.shape[0]-1,j,:] = [0,0,255]\n",
    "        GRAD[cost.shape[0]-1,j] = 255\n",
    "        mask [cost.shape[0]-1,j] = index + 1\n",
    "        \n",
    "        # a loop to select path\n",
    "        for row in range(cost.shape[0]-2,-1 ,-1):\n",
    "            # if top-right/left cell available\n",
    "            left,right = False,False\n",
    "            \n",
    "            # select top 3 pixles\n",
    "            tops = []\n",
    "            \n",
    "            # if exact top available and not selected before\n",
    "            if mask [row,j] == 0:\n",
    "                tops.append(cost[row,j])\n",
    "            \n",
    "            # select first top-left pixle that not selected before \n",
    "            j_left = j - 1\n",
    "            while j_left != -1 and mask [row,j_left] != 0 :\n",
    "                j_left-=1\n",
    "                if j_left == -1 :\n",
    "                    break \n",
    "             \n",
    "            # select first top-right pixle that not selected before \n",
    "            j_right = j + 1\n",
    "            while j_right != cost.shape[1] and mask [row,j_right] != 0 :\n",
    "                j_right+=1\n",
    "                if j_right == cost.shape[1] :\n",
    "                    j_right = -1\n",
    "                    break \n",
    "                \n",
    "            # get value if available  \n",
    "            if j_left != -1 :            \n",
    "                tops.append(cost[row,j_left])\n",
    "                left= True\n",
    "            \n",
    "            # get value if available      \n",
    "            if j_right != -1 and j_right != cost.shape[1]:            \n",
    "                tops.append(cost[row,j_right])\n",
    "                right= True\n",
    "            \n",
    "            # find which top is minimum    \n",
    "            if left and min(tops) == cost[row,j_left]:\n",
    "                j = j_left\n",
    "            elif right and min(tops) == cost[row,j_right]:\n",
    "                j = j_right \n",
    "            \n",
    "            #update report\n",
    "            img [row,j,:] = [0,0,255]\n",
    "            GRAD[row,j] = 255\n",
    "            mask [row,j] = index + 1\n",
    "        \n",
    "        # convert result ro asked format    \n",
    "        result[index,:] = np.array(list((zip(np.where(mask==index + 1)[0],\n",
    "                                             np.where(mask==index + 1)[1]))))[:,1]   \n",
    "    if seam_dir != \"vertical\":     \n",
    "        img = cv2.rotate(img, cv2.ROTATE_90_COUNTERCLOCKWISE)\n",
    "        GRAD = cv2.rotate(GRAD, cv2.ROTATE_90_COUNTERCLOCKWISE)\n",
    "        \n",
    "    IMG_WITH_SEAM = img\n",
    "    return result\n",
    "        \n",
    " "
   ]
  },
  {
   "cell_type": "code",
   "execution_count": null,
   "metadata": {},
   "outputs": [],
   "source": [
    "def remove_seams(img, seams_list, seam_dir=\"\"):\n",
    "    img = img.copy()\n",
    "    if seam_dir != \"vertical\":\n",
    "        img = cv2.rotate(img, cv2.ROTATE_90_CLOCKWISE) \n",
    "    \n",
    "    # generate a mask based on given seams list\n",
    "    mask = np.ones(shape=img.shape,dtype=np.bool8)\n",
    "    \n",
    "    # empty images that will be filled \n",
    "    out = np.zeros((img.shape[0],img.shape[1]-seams_list.shape[0],3),dtype=np.uint8)\n",
    "\n",
    "    # complte the mask\n",
    "    for i in range(seams_list.shape[0]):\n",
    "        for j in range(seams_list.shape[1]):\n",
    "            mask[j,int(seams_list[i][j]),:] = False\n",
    "    \n",
    "    # select image area that masked\n",
    "    for i in range(seams_list.shape[1]):\n",
    "        out[i,:,:] = img[i,:,:][mask[i,:,0]]\n",
    "        \n",
    "    if seam_dir != \"vertical\": \n",
    "        out = cv2.rotate(out, cv2.ROTATE_90_COUNTERCLOCKWISE)\n",
    "        \n",
    "    return out \n",
    "    "
   ]
  },
  {
   "cell_type": "code",
   "execution_count": null,
   "metadata": {},
   "outputs": [],
   "source": [
    "def add_seams(img, seams_list, seam_dir=\"\"):\n",
    "    img = img.copy()\n",
    "    if seam_dir != \"vertical\":\n",
    "        img = cv2.rotate(img, cv2.ROTATE_90_CLOCKWISE) \n",
    "    \n",
    "    # generate a mask based on given seams list\n",
    "    mask = np.zeros(shape=img.shape,dtype=np.bool8)\n",
    "    \n",
    "    # empty images that will be filled \n",
    "    out = np.zeros((img.shape[0],img.shape[1]+seams_list.shape[0],3),dtype=np.uint8)\n",
    "\n",
    "    # complte the mask\n",
    "    for i in range(seams_list.shape[0]):\n",
    "        for j in range(seams_list.shape[1]):\n",
    "            mask[j,int(seams_list[i][j]),:] = True\n",
    "    \n",
    "    # select image area that masked\n",
    "    for i in range(mask.shape[0]):\n",
    "        j = -1\n",
    "        for k in range(mask.shape[1]): \n",
    "            j += 1            \n",
    "            out[i,j,:] = img[i,k,:]\n",
    "            \n",
    "            if mask [i,k,0]:\n",
    "                out[i,j+1,:] = img[i,k,:]\n",
    "                j += 1\n",
    "\n",
    "\n",
    "        \n",
    "    if seam_dir != \"vertical\": \n",
    "        out = cv2.rotate(out, cv2.ROTATE_90_COUNTERCLOCKWISE)\n",
    "        \n",
    "    return out \n",
    "    \n"
   ]
  },
  {
   "cell_type": "code",
   "execution_count": null,
   "metadata": {},
   "outputs": [],
   "source": [
    "def Handler(img,dir_,percentage,show=True,name=\"\",energy_map=None,add=False):\n",
    "    if energy_map is None:\n",
    "        energy_map = find_energy_map(img)\n",
    "    energy = energy_map.copy()\n",
    "    if dir_ == \"vertical\":\n",
    "        res = find_seams_list(energy,dir_,int(energy_map.shape[1]*percentage)+1,img)\n",
    "    else:\n",
    "        res = find_seams_list(energy,dir_,int(energy_map.shape[0]*percentage)+1,img)\n",
    "        \n",
    "    if not add:\n",
    "        out = remove_seams(img,res,dir_)\n",
    "        out_2 = remove_seams(cv2.cvtColor(energy_map.astype(\"uint8\").copy(),cv2.COLOR_GRAY2BGR),res,dir_)\n",
    "    else:\n",
    "        out = add_seams(img,res,dir_)\n",
    "        out_2 = add_seams(cv2.cvtColor(energy_map.astype(\"uint8\").copy(),cv2.COLOR_GRAY2BGR),res,dir_)\n",
    "    if not show:\n",
    "        return out\n",
    "    plt.clf()   \n",
    "    plt.rcParams['figure.figsize'] = [10, 15]\n",
    "    plt.subplot(4,2,1)\n",
    "    plt.imshow(img[:,:,::-1])\n",
    "    plt.axis(\"off\")\n",
    "    plt.title(\"Orginal Iamge\")\n",
    "    plt.subplot(4,2,2)\n",
    "    plt.imshow(cv2.cvtColor(img,cv2.COLOR_BGR2GRAY),cmap=\"gray\")\n",
    "    plt.axis(\"off\")\n",
    "    plt.title(\"Gray-scale Iamge\")\n",
    "    plt.subplot(4,2,3)\n",
    "    plt.imshow(energy_map,cmap=\"gray\")\n",
    "    plt.axis(\"off\")\n",
    "    plt.title(\"Energy Map\")\n",
    "    plt.subplot(4,2,4)\n",
    "    plt.imshow(GRAD,cmap=\"gray\")\n",
    "    plt.axis(\"off\")\n",
    "    plt.title(\"Energy Map with selected seams\")\n",
    "    \n",
    "    plt.subplot(4,2,5)\n",
    "    plt.imshow(IMG_WITH_SEAM[:,:,::-1])\n",
    "    plt.axis(\"off\")\n",
    "    plt.title(\"Orginal Image with selected seams\")\n",
    "    plt.subplot(4,2,6)\n",
    "    plt.imshow(COST/np.max(COST),cmap=\"cool\")\n",
    "    plt.axis(\"off\")\n",
    "    plt.title(\"Result of M-Matrix which calculated by DP\")\n",
    "\n",
    "\n",
    "    plt.subplot(4,2,7)\n",
    "    plt.imshow(out_2)\n",
    "    plt.axis(\"off\")\n",
    "    plt.title(\"Resized energy map\".format(percentage,dir_))\n",
    "    \n",
    "    plt.subplot(4,2,8)\n",
    "    plt.imshow(out[:,:,::-1])\n",
    "    plt.axis(\"off\")\n",
    "    plt.title(\"Resized image\".format(percentage,dir_))\n",
    "    \n",
    "\n",
    "    plt.tight_layout()\n",
    "    plt.savefig(\"./outputs/P05/\"+name+\".png\")\n",
    "    plt.show()\n",
    "    return out\n",
    "    \n"
   ]
  },
  {
   "cell_type": "markdown",
   "metadata": {},
   "source": [
    "### A"
   ]
  },
  {
   "cell_type": "code",
   "execution_count": null,
   "metadata": {},
   "outputs": [],
   "source": [
    "ratios = [0.1,0.25,0.5]\n",
    "for r in ratios:\n",
    "    test = trump_ten.copy()\n",
    "    out = Handler(test,\"vertical\",r,True,\"Ten-single-step-{0}\".format(r))\n"
   ]
  },
  {
   "cell_type": "markdown",
   "metadata": {},
   "source": [
    "### A - one-by-one"
   ]
  },
  {
   "cell_type": "code",
   "execution_count": null,
   "metadata": {},
   "outputs": [],
   "source": [
    "ratios = [0.1,0.25,0.5]\n",
    "results_ten = []\n",
    "test = trump_ten.copy()\n",
    "for r in ratios:\n",
    "    print(\"Proc:\",r)\n",
    "    for i in range(5000):\n",
    "        test = Handler(test,\"vertical\",0.00000000001,False)\n",
    "        if test.shape[1]/trump_ten.shape[1] <= 1-r:\n",
    "            break\n",
    "    results_ten.append(test)"
   ]
  },
  {
   "cell_type": "markdown",
   "metadata": {},
   "source": [
    "### B"
   ]
  },
  {
   "cell_type": "code",
   "execution_count": null,
   "metadata": {},
   "outputs": [],
   "source": [
    "ratios = [0.1,0.25,0.5]\n",
    "for r in ratios:\n",
    "    test = trump_golf.copy()\n",
    "    out = Handler(test,\"horizontal\",r,True,\"Golf-single-step-{0}\".format(r))\n"
   ]
  },
  {
   "cell_type": "markdown",
   "metadata": {},
   "source": [
    "### B - one-by-one"
   ]
  },
  {
   "cell_type": "code",
   "execution_count": null,
   "metadata": {},
   "outputs": [],
   "source": [
    "ratios = [0.1,0.25,0.5]\n",
    "results_golf = []\n",
    "test = trump_golf.copy()\n",
    "for r in ratios:\n",
    "    print(\"Proc:\",r)\n",
    "    for i in range(5000):\n",
    "        test = Handler(test,\"horizontal\",0.00000000001,False)\n",
    "        if test.shape[0]/trump_golf.shape[0] <= 1- r:\n",
    "            break\n",
    "    results_golf.append(test)"
   ]
  },
  {
   "cell_type": "code",
   "execution_count": null,
   "metadata": {},
   "outputs": [],
   "source": [
    "#cv2.imwrite(\"./outputs/P05/Golf-multi-step.png\",cv2.vconcat(results_golf))\n",
    "cv2.imwrite(\"./outputs/P05/Ten-multi-step.png\",cv2.hconcat(results_ten))"
   ]
  },
  {
   "cell_type": "markdown",
   "metadata": {},
   "source": [
    "### C"
   ]
  },
  {
   "cell_type": "code",
   "execution_count": null,
   "metadata": {},
   "outputs": [],
   "source": [
    "img = cv2.imread(\"./inputs/c-2.jpg\")\n",
    "out = Handler(img,\"vertical\",0.2,True,\"C\")"
   ]
  },
  {
   "cell_type": "markdown",
   "metadata": {},
   "source": [
    "### D"
   ]
  },
  {
   "cell_type": "code",
   "execution_count": null,
   "metadata": {},
   "outputs": [],
   "source": [
    "img = cv2.imread(\"./inputs/d.jpg\")\n",
    "out = Handler(img,\"vertical\",0.1,True,\"D\")"
   ]
  },
  {
   "cell_type": "markdown",
   "metadata": {},
   "source": [
    "### E"
   ]
  },
  {
   "cell_type": "code",
   "execution_count": null,
   "metadata": {},
   "outputs": [],
   "source": [
    "trump_ten = cv2.imread(\"./inputs/P5/donald_plays_tennis.png\")\n",
    "trump_golf = cv2.imread(\"./inputs/P5/donald_plays_golf.png\")\n",
    "putin =  cv2.imread(\"./inputs/P5/trump_putin.png\")\n",
    "queen = cv2.imread(\"./inputs/P5/trump_queen.png\")\n",
    "\n",
    "ratios = [0.1,0.25,0.5] \n",
    "for r in ratios:\n",
    "    test = trump_ten.copy()\n",
    "    out = Handler(test,\"vertical\",r,True,\"E-increas-{0}-{1}\".format(\"Trump Ten\",r),add=True)\n",
    "    \n",
    "for r in ratios:\n",
    "    test = putin.copy()\n",
    "    out = Handler(test,\"vertical\",r,True,\"E-increas-{0}-{1}\".format(\"Putin\",r),add=True)\n",
    "    \n",
    "for r in ratios:\n",
    "    test = queen.copy()\n",
    "    out = Handler(test,\"vertical\",r,True,\"E-increas-{0}-{1}\".format(\"queen\",r),add=True)\n",
    "    \n",
    "for r in ratios:\n",
    "    test = trump_golf.copy()\n",
    "    out = Handler(test,\"horizontal\",r,True,\"E-increas-{0}-{1}\".format(\"Trump Golf\",r),add=True)\n"
   ]
  },
  {
   "cell_type": "markdown",
   "metadata": {},
   "source": [
    "### F"
   ]
  },
  {
   "cell_type": "code",
   "execution_count": null,
   "metadata": {},
   "outputs": [],
   "source": [
    "putin = cv2.imread(\"./inputs/P5/trump_putin.png\")\n",
    "putin_mask = cv2.imread(\"./inputs/P5/trump_putin_mask.png\")\n",
    "\n",
    "queen = cv2.imread(\"./inputs/P5/trump_queen.png\")\n",
    "queen_mask = cv2.imread(\"./inputs/P5/trump_queen_mask.png\")\n",
    "\n",
    "\n",
    "GRAD = find_energy_map(queen)+(-5)*(queen_mask[:,:,0])\n",
    "out = Handler(queen,\"vertical\",0.14,True,\"F-queen\",GRAD)\n",
    "while np.where(GRAD<0)[0].shape[0] <= 1 :\n",
    "    out = Handler(out,\"vertical\",0.00000001,False,\"F-queen\",GRAD)\n",
    "out = Handler(out,\"vertical\",0.00000001,False,\"F-queen\",GRAD)\n",
    "print(\"Queen Masked\")\n",
    "\n",
    "GRAD = find_energy_map(putin[1:,:,:])+(-5)*(putin_mask[:,:,0])\n",
    "out = Handler(putin[1:,:,:],\"vertical\",0.2825,True,\"F-putin\",GRAD)\n",
    "while np.where(GRAD<0)[0].shape[0] <= 1 :\n",
    "    out = Handler(out,\"vertical\",0.00000001,False,\"F-putin\",GRAD)\n",
    "out = Handler(out,\"vertical\",0.00000001,False,\"F-putin\",GRAD)\n",
    "print(\"Putin Masked\")\n"
   ]
  },
  {
   "cell_type": "code",
   "execution_count": null,
   "metadata": {},
   "outputs": [],
   "source": []
  },
  {
   "cell_type": "code",
   "execution_count": null,
   "metadata": {},
   "outputs": [],
   "source": []
  }
 ],
 "metadata": {
  "interpreter": {
   "hash": "de57e28909dfb2671530bae44b33e2be109b3d90a9cd64e4fc6cd39e7a53a3db"
  },
  "kernelspec": {
   "display_name": "Python 3.8.2 64-bit",
   "language": "python",
   "name": "python3"
  },
  "language_info": {
   "codemirror_mode": {
    "name": "ipython",
    "version": 3
   },
   "file_extension": ".py",
   "mimetype": "text/x-python",
   "name": "python",
   "nbconvert_exporter": "python",
   "pygments_lexer": "ipython3",
   "version": "3.8.2"
  },
  "orig_nbformat": 4
 },
 "nbformat": 4,
 "nbformat_minor": 2
}

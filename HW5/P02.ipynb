{
 "cells": [
  {
   "cell_type": "code",
   "execution_count": null,
   "metadata": {},
   "outputs": [],
   "source": [
    "import numpy as np\n",
    "import seaborn as sns\n",
    "import matplotlib.pyplot as plt\n",
    "import cv2"
   ]
  },
  {
   "cell_type": "code",
   "execution_count": null,
   "metadata": {},
   "outputs": [],
   "source": [
    "img_a = cv2.imread('inputs/P2/biden_fall_1.png',0)\n",
    "img_b = cv2.imread('inputs/P2/biden_fall_2.png',0)\n",
    "img_c =cv2.imread('inputs/P2/biden_fall_3.png',0)\n",
    "\n",
    "\n"
   ]
  },
  {
   "cell_type": "markdown",
   "metadata": {},
   "source": [
    "### #a\n"
   ]
  },
  {
   "cell_type": "code",
   "execution_count": null,
   "metadata": {},
   "outputs": [],
   "source": [
    "def second_derivative_d_e(img,s, ite=1):\n",
    "    img_dilate = cv2.morphologyEx(img.astype(np.float32), cv2.MORPH_DILATE, np.ones((s, s), np.float32), iterations=ite)\n",
    "    img_erode = cv2.morphologyEx(img.astype(np.float32), cv2.MORPH_ERODE, np.ones((s, s), np.float32), iterations=ite)\n",
    "    img_2nd = img - ((img_dilate + img_erode) /2)\n",
    "    return img_2nd\n",
    "\n",
    "\n",
    "plt.rcParams['figure.figsize'] = [18, 10]\n",
    "plt.subplot(2,3,1)\n",
    "plt.imshow(img_a,cmap=\"gray\")\n",
    "plt.axis(\"off\")\n",
    "plt.title(\"Orginal Input\")\n",
    "\n",
    "for i in range(1,6):\n",
    "    res = second_derivative_d_e(img_a,5,i)\n",
    "    plt.subplot(2,3,i+1)\n",
    "    plt.imshow(res,cmap=\"gray\")\n",
    "    plt.axis(\"off\")\n",
    "    plt.title(\"2nd derivative with d/e | iterations: \"+str(i))\n",
    "    \n",
    "plt.tight_layout()\n",
    "plt.show()"
   ]
  },
  {
   "cell_type": "markdown",
   "metadata": {},
   "source": [
    "### #b"
   ]
  },
  {
   "cell_type": "code",
   "execution_count": null,
   "metadata": {},
   "outputs": [],
   "source": [
    "def second_derivative_o_c(img,s, ite=1):\n",
    "    img_open = cv2.morphologyEx(img.astype(np.float32), cv2.MORPH_OPEN, np.ones((s, s), np.float32), iterations=ite)\n",
    "    img_close = cv2.morphologyEx(img.astype(np.float32), cv2.MORPH_CLOSE, np.ones((s, s), np.float32), iterations=ite)\n",
    "    img_2nd = img - ((img_close + img_open) / 2)\n",
    "    return img_2nd\n",
    "\n",
    "\n",
    "plt.rcParams['figure.figsize'] = [15, 10]\n",
    "plt.subplot(2,3,1)\n",
    "plt.imshow(img_a,cmap=\"gray\")\n",
    "plt.axis(\"off\")\n",
    "plt.title(\"Orginal Input\")\n",
    "\n",
    "for i in range(1,6):\n",
    "    res = second_derivative_o_c(img_a,5,i)\n",
    "    plt.subplot(2,3,i+1)\n",
    "    plt.imshow(res,cmap=\"gray\")\n",
    "    plt.axis(\"off\")\n",
    "    plt.title(\"2nd derivative with o/c | iterations: \"+str(i))\n",
    "    \n",
    "plt.tight_layout()\n",
    "plt.show()"
   ]
  },
  {
   "cell_type": "markdown",
   "metadata": {},
   "source": [
    "### #c"
   ]
  },
  {
   "cell_type": "code",
   "execution_count": null,
   "metadata": {},
   "outputs": [],
   "source": [
    "def second_derivative_oc_de(img,s, ite=1):\n",
    "    img_dilate = cv2.morphologyEx(img.astype(np.float32), cv2.MORPH_DILATE, np.ones((s, s), np.float32), iterations=ite)\n",
    "    img_erode = cv2.morphologyEx(img.astype(np.float32), cv2.MORPH_ERODE, np.ones((s, s), np.float32), iterations=ite)\n",
    "    img_open = cv2.morphologyEx(img.astype(np.float32), cv2.MORPH_OPEN, np.ones((s, s), np.float32), iterations=ite)\n",
    "    img_close = cv2.morphologyEx(img.astype(np.float32), cv2.MORPH_CLOSE, np.ones((s, s), np.float32), iterations=ite)\n",
    "    img_2nd = (img_close + img_open - img_dilate - img_erode) / 2\n",
    "    return img_2nd\n",
    "\n",
    "\n",
    "plt.rcParams['figure.figsize'] = [15, 10]\n",
    "plt.subplot(2,3,1)\n",
    "plt.imshow(img_a,cmap=\"gray\")\n",
    "plt.axis(\"off\")\n",
    "plt.title(\"Orginal Input\")\n",
    "\n",
    "for i in range(1,6):\n",
    "    res = second_derivative_oc_de(img_a,5,i)\n",
    "    plt.subplot(2,3,i+1)\n",
    "    plt.imshow(res,cmap=\"gray\")\n",
    "    plt.axis(\"off\")\n",
    "    plt.title(\"2nd derivative with oc/de | iterations: \"+str(i))\n",
    "    \n",
    "plt.tight_layout()\n",
    "plt.show()"
   ]
  },
  {
   "cell_type": "markdown",
   "metadata": {},
   "source": [
    "### #d"
   ]
  },
  {
   "cell_type": "code",
   "execution_count": null,
   "metadata": {},
   "outputs": [],
   "source": [
    "def gradient_de(img,s, ite=1):\n",
    "    img_dilate = cv2.morphologyEx(img.astype(np.float32), cv2.MORPH_DILATE, np.ones((s, s), np.float32), iterations=ite)\n",
    "    img_erode = cv2.morphologyEx(img.astype(np.float32), cv2.MORPH_ERODE, np.ones((s, s), np.float32), iterations=ite)\n",
    "\n",
    "    img_grad = img_dilate - img_erode\n",
    "    return img_grad\n",
    "\n",
    "plt.rcParams['figure.figsize'] = [15, 10]\n",
    "plt.subplot(2,3,1)\n",
    "plt.imshow(img_b,cmap=\"gray\")\n",
    "plt.axis(\"off\")\n",
    "plt.title(\"Orginal Input\")\n",
    "\n",
    "for i in range(1,6):\n",
    "    res = gradient_de(img_b,5,i)\n",
    "    plt.subplot(2,3,i+1)\n",
    "    plt.imshow(res,cmap=\"gray\")\n",
    "    plt.axis(\"off\")\n",
    "    plt.title(\"Gradient of image d/e | iterations: \"+str(i))\n",
    "    \n",
    "plt.tight_layout()\n",
    "plt.show()"
   ]
  },
  {
   "cell_type": "markdown",
   "metadata": {},
   "source": [
    "### #e"
   ]
  },
  {
   "cell_type": "code",
   "execution_count": null,
   "metadata": {},
   "outputs": [],
   "source": [
    "def gradient_oc(img,s, ite=1):\n",
    "    img_open = cv2.morphologyEx(img.astype(np.float32), cv2.MORPH_OPEN, np.ones((s, s), np.float32), iterations=ite)\n",
    "    img_close = cv2.morphologyEx(img.astype(np.float32), cv2.MORPH_CLOSE, np.ones((s, s), np.float32), iterations=ite)\n",
    "    img_grad = img_close - img_open\n",
    "    return img_grad\n",
    "\n",
    "\n",
    "plt.rcParams['figure.figsize'] = [15, 10]\n",
    "plt.subplot(2,3,1)\n",
    "plt.imshow(img_b,cmap=\"gray\")\n",
    "plt.axis(\"off\")\n",
    "plt.title(\"Orginal Input\")\n",
    "\n",
    "for i in range(1,6):\n",
    "    res = gradient_oc(img_b,5,i)\n",
    "    plt.subplot(2,3,i+1)\n",
    "    plt.imshow(res,cmap=\"gray\")\n",
    "    plt.axis(\"off\")\n",
    "    plt.title(\"Gradient of image o/c | iterations: \"+str(i))\n",
    "    \n",
    "plt.tight_layout()\n",
    "plt.show()"
   ]
  },
  {
   "cell_type": "markdown",
   "metadata": {},
   "source": [
    "### #f"
   ]
  },
  {
   "cell_type": "code",
   "execution_count": null,
   "metadata": {},
   "outputs": [],
   "source": [
    "def gradient_de_oc(img,s, ite=1):\n",
    "    img_dilate = cv2.morphologyEx(img.astype(np.float32), cv2.MORPH_DILATE, np.ones((s, s), np.float32), iterations=ite)\n",
    "    img_erode = cv2.morphologyEx(img.astype(np.float32), cv2.MORPH_ERODE, np.ones((s, s), np.float32), iterations=ite)\n",
    "    img_open = cv2.morphologyEx(img.astype(np.float32), cv2.MORPH_OPEN, np.ones((s, s), np.float32), iterations=ite)\n",
    "    img_close = cv2.morphologyEx(img.astype(np.float32), cv2.MORPH_CLOSE, np.ones((s, s), np.float32), iterations=ite)\n",
    "    \n",
    "    img_grad = (img_dilate + img_close) -(img_erode + img_open)\n",
    "    return img_grad\n",
    "    \n",
    "plt.rcParams['figure.figsize'] = [15, 10]\n",
    "plt.subplot(2,3,1)\n",
    "plt.imshow(img_b,cmap=\"gray\")\n",
    "plt.axis(\"off\")\n",
    "plt.title(\"Orginal Input\")\n",
    "\n",
    "for i in range(1,6):\n",
    "    res = gradient_de_oc(img_b,5,i)\n",
    "    plt.subplot(2,3,i+1)\n",
    "    plt.imshow(res,cmap=\"gray\")\n",
    "    plt.axis(\"off\")\n",
    "    plt.title(\"Gradient of image de/oc | iterations: \"+str(i))\n",
    "    \n",
    "plt.tight_layout()\n",
    "plt.show()  \n",
    "    "
   ]
  },
  {
   "cell_type": "markdown",
   "metadata": {},
   "source": [
    "### #g"
   ]
  },
  {
   "cell_type": "code",
   "execution_count": null,
   "metadata": {},
   "outputs": [],
   "source": [
    "def smoothing_de(img,s, ite=1):\n",
    "    img_dilate = cv2.morphologyEx(img.astype(np.float32), cv2.MORPH_DILATE, np.ones((s, s), np.float32), iterations=ite)\n",
    "    img_erode = cv2.morphologyEx(img.astype(np.float32), cv2.MORPH_ERODE, np.ones((s, s), np.float32), iterations=ite)\n",
    "    img = (img_dilate + img_erode) / 2\n",
    "    return img \n",
    "\n",
    "plt.rcParams['figure.figsize'] = [15, 10]\n",
    "plt.subplot(2,3,1)\n",
    "plt.imshow(img_c,cmap=\"gray\")\n",
    "plt.axis(\"off\")\n",
    "plt.title(\"Orginal Input\")\n",
    "\n",
    "for i in range(1,6):\n",
    "    res = smoothing_de(img_c,5,i)\n",
    "    plt.subplot(2,3,i+1)\n",
    "    plt.imshow(res,cmap=\"gray\")\n",
    "    plt.axis(\"off\")\n",
    "    plt.title(\"Smoothing of image d/e | iterations: \"+str(i))\n",
    "    \n",
    "plt.tight_layout()\n",
    "plt.show()  \n",
    "    "
   ]
  },
  {
   "cell_type": "markdown",
   "metadata": {},
   "source": [
    "### #h"
   ]
  },
  {
   "cell_type": "code",
   "execution_count": null,
   "metadata": {},
   "outputs": [],
   "source": [
    "def smoothing_oc(img,s, ite=1):\n",
    "    img_open = cv2.morphologyEx(img.astype(np.float32), cv2.MORPH_OPEN, np.ones((s, s), np.float32), iterations=ite)\n",
    "    img_close = cv2.morphologyEx(img.astype(np.float32), cv2.MORPH_CLOSE, np.ones((s, s), np.float32), iterations=ite)\n",
    "    \n",
    "    img = (img_close + img_open) /2\n",
    "    return img \n",
    "\n",
    "plt.rcParams['figure.figsize'] = [15, 10]\n",
    "plt.subplot(2,3,1)\n",
    "plt.imshow(img_c,cmap=\"gray\")\n",
    "plt.axis(\"off\")\n",
    "plt.title(\"Orginal Input\")\n",
    "\n",
    "for i in range(1,6):\n",
    "    res = smoothing_oc(img_c,5,i)\n",
    "    plt.subplot(2,3,i+1)\n",
    "    plt.imshow(res,cmap=\"gray\")\n",
    "    plt.axis(\"off\")\n",
    "    plt.title(\"Smoothing of image o/c | iterations: \"+str(i))\n",
    "    \n",
    "plt.tight_layout()\n",
    "plt.show()  \n",
    "    "
   ]
  },
  {
   "cell_type": "code",
   "execution_count": null,
   "metadata": {},
   "outputs": [],
   "source": []
  }
 ],
 "metadata": {
  "kernelspec": {
   "display_name": "Python 3",
   "language": "python",
   "name": "python3"
  },
  "language_info": {
   "codemirror_mode": {
    "name": "ipython",
    "version": 3
   },
   "file_extension": ".py",
   "mimetype": "text/x-python",
   "name": "python",
   "nbconvert_exporter": "python",
   "pygments_lexer": "ipython3",
   "version": "3.8.2"
  },
  "vscode": {
   "interpreter": {
    "hash": "de57e28909dfb2671530bae44b33e2be109b3d90a9cd64e4fc6cd39e7a53a3db"
   }
  }
 },
 "nbformat": 4,
 "nbformat_minor": 2
}

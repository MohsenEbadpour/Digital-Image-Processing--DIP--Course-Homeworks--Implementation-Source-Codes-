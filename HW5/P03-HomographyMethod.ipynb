{
 "cells": [
  {
   "cell_type": "code",
   "execution_count": null,
   "metadata": {},
   "outputs": [],
   "source": [
    "import numpy as np\n",
    "import seaborn as sns\n",
    "import matplotlib.pyplot as plt\n",
    "import cv2\n",
    "import cv2 as cv\n",
    "plt.rcParams['figure.figsize'] = [15, 10]\n",
    "import collections, numpy\n",
    "import glob\n",
    "import random\n",
    "\n",
    "def random_color():\n",
    "    levels = range(32,256,32)\n",
    "    return tuple(random.choice(levels) for _ in range(3))"
   ]
  },
  {
   "cell_type": "markdown",
   "metadata": {},
   "source": [
    "## Cart 2"
   ]
  },
  {
   "cell_type": "code",
   "execution_count": null,
   "metadata": {},
   "outputs": [],
   "source": [
    "img_o = cv2.imread('inputs/P3/cart_2.png',0)\n",
    "plt.imshow(img_o,cmap=\"gray\")\n",
    "\n",
    "ORGINAL_ITEMS = []\n",
    "Prices = [40,83,6.5,30,5,50,8,108,6,139,144,36]\n",
    "Name = [\"Tuna-edible\",\"Pril\",\"Soda-drink\",\"MihanMilk-drink\",\"TinyCake-edible\",\n",
    "        \"Toothpaste\",\"MihanIceCreamCake-edible\",\"Oil\",\n",
    "        \"MihanIceCreamLivani-edible\",\"Shampoo\",\"Tea\",\"Chips-edible\"]\n",
    "paths = glob.glob(\"./inputs/P3/items/*.png\")\n",
    "paths.sort()\n",
    "for p in paths:\n",
    "    tmp = cv2.imread(p,0)\n",
    "    ORGINAL_ITEMS.append(cv2.blur(tmp,(7,7)))\n",
    "\n",
    "def imshow(img,ti=\"\",show=True):\n",
    "    plt.imshow(img,cmap=\"gray\")\n",
    "    plt.axis(\"off\")\n",
    "    if ti != \"\":\n",
    "        plt.title(ti)\n",
    "    if show:\n",
    "        plt.show()\n",
    "\n",
    "img_o = img_o[50:,:]\n",
    "img_o = img_o[:1075,:]\n",
    "img_o = cv2.blur(img_o,(7,7))\n",
    "imshow(img_o,\"Gray Scale of input image\")\n",
    "img = img_o.copy()"
   ]
  },
  {
   "cell_type": "code",
   "execution_count": null,
   "metadata": {},
   "outputs": [],
   "source": [
    "def is_detect(img1,img2,MIN_MATCH_COUNT=10,di_coe=0.5):\n",
    "    img1 = img1.copy()\n",
    "    img2 = img2.copy()\n",
    "    sift = cv.SIFT_create()\n",
    "    kp1, des1 = sift.detectAndCompute(img1,None)\n",
    "    kp2, des2 = sift.detectAndCompute(img2,None)\n",
    "    FLANN_INDEX_KDTREE = 1\n",
    "    index_params = dict(algorithm = FLANN_INDEX_KDTREE, trees = 5)\n",
    "    search_params = dict(checks = 50)\n",
    "    flann = cv.FlannBasedMatcher(index_params, search_params)\n",
    "    matches = flann.knnMatch(des1,des2,k=2)\n",
    "\n",
    "    good = []\n",
    "    for m,n in matches:\n",
    "        if m.distance < di_coe*n.distance:\n",
    "            good.append(m)\n",
    "            \n",
    "    if len(good)>MIN_MATCH_COUNT:\n",
    "        src_pts = np.float32([ kp1[m.queryIdx].pt for m in good ]).reshape(-1,1,2)\n",
    "        dst_pts = np.float32([ kp2[m.trainIdx].pt for m in good ]).reshape(-1,1,2)\n",
    "        M, mask = cv.findHomography(dst_pts,src_pts, cv.RANSAC,5.0)\n",
    "        matchesMask = mask.ravel().tolist()\n",
    "        h,w = img2.shape\n",
    "        pts = np.float32([ [0,0],[0,h-1],[w-1,h-1],[w-1,0] ]).reshape(-1,1,2)\n",
    "        dst = cv.perspectiveTransform(pts,M)   \n",
    "        co = random_color()\n",
    "        draw_params = dict(matchColor = co, # draw matches in green color\n",
    "                   singlePointColor = None,\n",
    "                   matchesMask = matchesMask, # draw only inliers\n",
    "                   flags = 2)\n",
    "        img3 = cv.drawMatches(img1,kp1,img2,kp2,good,None,**draw_params)\n",
    "        cv2.fillPoly(img1, pts =[np.int32(dst)], color=(128,128,128))\n",
    "        return True,img1,img3\n",
    "    else:\n",
    "        return False,None,None\n",
    "   \n",
    "   \n",
    "plt.rcParams['figure.figsize'] = [15, 15]\n",
    "\n",
    "def search_elements(input_img,log=False):\n",
    "    global Name\n",
    "    global Prices\n",
    "    global ORGINAL_ITEMS\n",
    "    results = np.zeros(shape=(len(Name),),dtype=np.int32)\n",
    "    input_img = input_img.copy()\n",
    "    plt_index = 1\n",
    "    for index in range(len(Name)):\n",
    "        \n",
    "        stat,tmp,log_img = is_detect(input_img,ORGINAL_ITEMS[index])\n",
    "        while stat :\n",
    "            results[index] += 1\n",
    "            input_img = tmp\n",
    "            if log :\n",
    "                title = Name[index].split(\"-\")[0]\n",
    "                title += \" is detected for #{0} time\".format(results[index])\n",
    "                plt.subplot(3,1,plt_index)\n",
    "                plt_index += 1\n",
    "                imshow(log_img,title,False)\n",
    "                if plt_index == 4 :\n",
    "                    plt_index = 1\n",
    "                    plt.tight_layout()\n",
    "                    plt.show()\n",
    "                \n",
    "            stat,tmp,log_img = is_detect(input_img,ORGINAL_ITEMS[index])   \n",
    "    if log and plt_index != 1 :\n",
    "        plt.tight_layout()\n",
    "        plt.show()\n",
    "    return results \n",
    "\n",
    "list_of_cart = search_elements(img,True)"
   ]
  },
  {
   "cell_type": "markdown",
   "metadata": {},
   "source": [
    "### #f"
   ]
  },
  {
   "cell_type": "code",
   "execution_count": null,
   "metadata": {},
   "outputs": [],
   "source": [
    "for i in range(len(Name)):\n",
    "    print(Name[i].split(\"-\")[0]+\":\",list_of_cart[i])\n",
    "print(\"==================\")\n",
    "print(\"Total:\",np.sum(list_of_cart)) "
   ]
  },
  {
   "cell_type": "markdown",
   "metadata": {},
   "source": [
    "### #g"
   ]
  },
  {
   "cell_type": "code",
   "execution_count": null,
   "metadata": {},
   "outputs": [],
   "source": [
    "for i in range(len(Name)):\n",
    "    if \"chips\" in Name[i].lower():\n",
    "        print(Name[i].split(\"-\")[0]+\":\",list_of_cart[i])"
   ]
  },
  {
   "cell_type": "markdown",
   "metadata": {},
   "source": [
    "### #h"
   ]
  },
  {
   "cell_type": "code",
   "execution_count": null,
   "metadata": {},
   "outputs": [],
   "source": [
    "t = 0 \n",
    "its = 0 \n",
    "for i in range(len(Name)):\n",
    "    if \"icecream\" in Name[i].lower():\n",
    "        print(\"--------\")\n",
    "        print(Name[i].split(\"-\")[0]+\" / Single price:{0}KT / Count:{1} / TotalCost:{2}KT\".format(Prices[i],list_of_cart[i],list_of_cart[i]*Prices[i]))\n",
    "        t+= list_of_cart[i]*Prices[i]\n",
    "        its += list_of_cart[i]\n",
    "\n",
    "print(\"==================\")\n",
    "print(\"Total Items:\",its,\"- Total Price:{0}KT\".format(t)) \n"
   ]
  },
  {
   "cell_type": "markdown",
   "metadata": {},
   "source": [
    "### #i"
   ]
  },
  {
   "cell_type": "code",
   "execution_count": null,
   "metadata": {},
   "outputs": [],
   "source": [
    "t = 0 \n",
    "its = 0 \n",
    "for i in range(len(Name)):\n",
    "    if \"edible\" in Name[i].lower():\n",
    "        print(\"--------\")\n",
    "        print(Name[i].split(\"-\")[0]+\" / Single price:{0}KT / Count:{1} / TotalCost:{2}KT\".format(Prices[i],list_of_cart[i],list_of_cart[i]*Prices[i]))\n",
    "        t+= list_of_cart[i]*Prices[i]\n",
    "        its += list_of_cart[i]\n",
    "\n",
    "print(\"==================\")\n",
    "print(\"Total Items:\",its,\"- Total Price:{0}KT\".format(t)) "
   ]
  },
  {
   "cell_type": "markdown",
   "metadata": {},
   "source": [
    "### #j"
   ]
  },
  {
   "cell_type": "code",
   "execution_count": null,
   "metadata": {},
   "outputs": [],
   "source": [
    "t = 0 \n",
    "for i in range(len(Name)):\n",
    "    print(\"--------\")\n",
    "    print(Name[i].split(\"-\")[0]+\" / Single price:{0}KT / Count:{1} / TotalCost:{2}KT\".format(Prices[i],list_of_cart[i],list_of_cart[i]*Prices[i]))\n",
    "    t+= list_of_cart[i]*Prices[i]\n",
    "    \n",
    "print(\"==================\")\n",
    "print(\"Total Items:\",np.sum(list_of_cart),\"- Total Price:{0}KT\".format(t)) "
   ]
  },
  {
   "cell_type": "markdown",
   "metadata": {},
   "source": [
    "## Repeat Cart 1"
   ]
  },
  {
   "cell_type": "code",
   "execution_count": null,
   "metadata": {},
   "outputs": [],
   "source": [
    "img_o = cv2.imread('inputs/P3/cart_1.png',0)\n",
    "plt.imshow(img_o,cmap=\"gray\")\n",
    "\n",
    "ORGINAL_ITEMS = []\n",
    "Prices = [40,83,6.5,30,5,50,8,108,6,139,144,36]\n",
    "Name = [\"Tuna-edible\",\"Pril\",\"Soda-drink\",\"MihanMilk-drink\",\"TinyCake-edible\",\n",
    "        \"Toothpaste\",\"MihanIceCreamCake-edible\",\"Oil\",\n",
    "        \"MihanIceCreamLivani-edible\",\"Shampoo\",\"Tea\",\"Chips-edible\"]\n",
    "paths = glob.glob(\"./inputs/P3/items/*.png\")\n",
    "paths.sort()\n",
    "for p in paths:\n",
    "    tmp = cv2.imread(p,0)\n",
    "    ORGINAL_ITEMS.append(cv2.blur(tmp,(7,7)))\n",
    "\n",
    "def imshow(img,ti=\"\",show=True):\n",
    "    plt.imshow(img,cmap=\"gray\")\n",
    "    plt.axis(\"off\")\n",
    "    if ti != \"\":\n",
    "        plt.title(ti)\n",
    "    if show:\n",
    "        plt.show()\n",
    "\n",
    "img_o = img_o[50:,:]\n",
    "img_o = img_o[:1075,:]\n",
    "img_o = cv2.blur(img_o,(7,7))\n",
    "imshow(img_o,\"Gray Scale of input image\")\n",
    "img = img_o.copy()\n",
    "\n",
    "list_of_cart = search_elements(img,True)"
   ]
  },
  {
   "cell_type": "markdown",
   "metadata": {},
   "source": [
    "### #a"
   ]
  },
  {
   "cell_type": "code",
   "execution_count": null,
   "metadata": {},
   "outputs": [],
   "source": [
    "for i in range(len(Name)):\n",
    "    print(Name[i].split(\"-\")[0]+\":\",list_of_cart[i])\n",
    "print(\"==================\")\n",
    "print(\"Total:\",np.sum(list_of_cart)) "
   ]
  },
  {
   "cell_type": "markdown",
   "metadata": {},
   "source": [
    "### #b"
   ]
  },
  {
   "cell_type": "code",
   "execution_count": null,
   "metadata": {},
   "outputs": [],
   "source": [
    "t = 0 \n",
    "for i in range(len(Name)):\n",
    "    if \"tiny\" in Name[i].lower():\n",
    "        print(Name[i].split(\"-\")[0]+\":\",list_of_cart[i])\n",
    "        t += list_of_cart[i]\n",
    "\n",
    "print(\"==================\")\n",
    "print(\"Total Tinies:\",t) "
   ]
  },
  {
   "cell_type": "markdown",
   "metadata": {},
   "source": [
    "### #c"
   ]
  },
  {
   "cell_type": "code",
   "execution_count": null,
   "metadata": {},
   "outputs": [],
   "source": [
    "t = 0 \n",
    "for i in range(len(Name)):\n",
    "    if \"drink\" in Name[i].lower():\n",
    "        print(Name[i].split(\"-\")[0]+\", Count:\",list_of_cart[i], \", Single price:\",Prices[i], \", Total price:\",Prices[i]*list_of_cart[i])\n",
    "        t += list_of_cart[i]*Prices[i]\n",
    "\n",
    "print(\"==================\")\n",
    "print(\"Total Drinks: {0}KT\".format(t)) "
   ]
  },
  {
   "cell_type": "markdown",
   "metadata": {},
   "source": [
    "### #d"
   ]
  },
  {
   "cell_type": "code",
   "execution_count": null,
   "metadata": {},
   "outputs": [],
   "source": [
    "t = 0 \n",
    "for i in range(len(Name)):\n",
    "    if \"mihan\" in Name[i].lower():\n",
    "        print(Name[i].split(\"-\")[0]+\":\",list_of_cart[i])\n",
    "        t += list_of_cart[i]\n",
    "\n",
    "print(\"==================\")\n",
    "print(\"Total by Mihan:\",t) "
   ]
  },
  {
   "cell_type": "code",
   "execution_count": null,
   "metadata": {},
   "outputs": [],
   "source": [
    "t = 0 \n",
    "for i in range(len(Name)):\n",
    "    print(\"--------\")\n",
    "    print(Name[i].split(\"-\")[0]+\" / Single price:{0}KT / Count:{1} / TotalCost:{2}KT\".format(Prices[i],list_of_cart[i],list_of_cart[i]*Prices[i]))\n",
    "    t+= list_of_cart[i]*Prices[i]\n",
    "    \n",
    "print(\"==================\")\n",
    "print(\"Total Items:\",np.sum(list_of_cart),\"- Total Price:{0}KT\".format(t)) "
   ]
  },
  {
   "cell_type": "code",
   "execution_count": null,
   "metadata": {},
   "outputs": [],
   "source": []
  }
 ],
 "metadata": {
  "kernelspec": {
   "display_name": "Python 3",
   "language": "python",
   "name": "python3"
  },
  "language_info": {
   "codemirror_mode": {
    "name": "ipython",
    "version": 3
   },
   "file_extension": ".py",
   "mimetype": "text/x-python",
   "name": "python",
   "nbconvert_exporter": "python",
   "pygments_lexer": "ipython3",
   "version": "3.8.2"
  },
  "vscode": {
   "interpreter": {
    "hash": "de57e28909dfb2671530bae44b33e2be109b3d90a9cd64e4fc6cd39e7a53a3db"
   }
  }
 },
 "nbformat": 4,
 "nbformat_minor": 2
}

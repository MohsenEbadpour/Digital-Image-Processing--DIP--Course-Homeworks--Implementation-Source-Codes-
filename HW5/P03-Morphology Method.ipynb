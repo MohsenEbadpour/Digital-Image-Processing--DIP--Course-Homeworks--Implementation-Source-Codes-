{
 "cells": [
  {
   "cell_type": "code",
   "execution_count": null,
   "metadata": {},
   "outputs": [],
   "source": [
    "import numpy as np\n",
    "import seaborn as sns\n",
    "import matplotlib.pyplot as plt\n",
    "import cv2\n",
    "plt.rcParams['figure.figsize'] = [15, 10]\n",
    "import collections, numpy\n",
    "import glob\n",
    "F = 200"
   ]
  },
  {
   "cell_type": "code",
   "execution_count": null,
   "metadata": {},
   "outputs": [],
   "source": [
    "img_o = cv2.imread('inputs/P3/cart_1.png',0)\n",
    "plt.imshow(img_o,cmap=\"gray\")\n",
    "\n",
    "ORGINAL_ITEMS = []\n",
    "Prices = [40,83,6.5,30,5,50,8,108,6,139,144,36]\n",
    "Name = [\"Tuna-edible\",\"Pril\",\"Soda-drink\",\"MihanMilk-drink\",\"TinyCake-edible\",\n",
    "        \"Toothpaste\",\"MihanIceCreamCake-edible\",\"Oil\",\n",
    "        \"MihanIceCreamLivani-edible\",\"Shampoo\",\"Tea\",\"Chips-edible\"]\n",
    "paths = glob.glob(\"./inputs/P3/items/*.png\")\n",
    "paths.sort()\n",
    "for p in paths:\n",
    "    tmp = cv2.imread(p,0).astype(np.float32)\n",
    "    ORGINAL_ITEMS.append(tmp)\n",
    "\n",
    "def imshow(img,ti=\"\",show=True):\n",
    "    plt.imshow(img,cmap=\"gray\")\n",
    "    plt.axis(\"off\")\n",
    "    if ti != \"\":\n",
    "        plt.title(ti)\n",
    "    if show:\n",
    "        plt.show()\n",
    "imshow(img_o,\"Gray Scale of input image\")\n"
   ]
  },
  {
   "cell_type": "markdown",
   "metadata": {},
   "source": [
    "### #a"
   ]
  },
  {
   "cell_type": "code",
   "execution_count": null,
   "metadata": {},
   "outputs": [],
   "source": [
    "img = img_o[75:,:]\n",
    "img = img[:1075,:]\n",
    "im_bw = cv2.threshold(img, 40, 255, cv2.THRESH_BINARY)[1]\n",
    "imshow(img,\"Border cropped\")\n",
    "imshow(im_bw,\"Convert to binary\")\n",
    "\n",
    "def second_derivative_oc_de(img,s, ite=1):\n",
    "    img_dilate = cv2.morphologyEx(img.astype(np.float32), cv2.MORPH_DILATE, np.ones((s, s), np.float32), iterations=ite)\n",
    "    img_erode = cv2.morphologyEx(img.astype(np.float32), cv2.MORPH_ERODE, np.ones((s, s), np.float32), iterations=ite)\n",
    "    img_open = cv2.morphologyEx(img.astype(np.float32), cv2.MORPH_OPEN, np.ones((s, s), np.float32), iterations=ite)\n",
    "    img_close = cv2.morphologyEx(img.astype(np.float32), cv2.MORPH_CLOSE, np.ones((s, s), np.float32), iterations=ite)\n",
    "    img_2nd = (img_close + img_open - img_dilate - img_erode) / 2\n",
    "    return img_2nd\n",
    "\n",
    "im_bw = second_derivative_oc_de(im_bw,11,1)\n",
    "im_bw = cv2.threshold(im_bw, 40, 255, cv2.THRESH_BINARY)[1]\n",
    "im_bw = im_bw.astype(np.uint8)\n",
    "imshow(im_bw,\"Second derivative of image using opening/closing - dilate/erode & make it binary again\")\n",
    "\n",
    "\n",
    "def imshow_components(labels):\n",
    "    label_hue = np.uint8(179*labels/np.max(labels))\n",
    "    blank_ch = 255*np.ones_like(label_hue)\n",
    "    labeled_img = cv2.merge([label_hue, blank_ch, blank_ch])\n",
    "    labeled_img = cv2.cvtColor(labeled_img, cv2.COLOR_HSV2BGR)\n",
    "    labeled_img[label_hue==0] = 0\n",
    "    return cv2.cvtColor(labeled_img, cv2.COLOR_BGR2GRAY)\n",
    "\n",
    "def RegFiller(counter,lb):\n",
    "    out = np.zeros_like(im_bw)\n",
    "    for key in counter:\n",
    "        if key == 0 :\n",
    "            continue\n",
    "        x,y = np.where(lb==key,)\n",
    "        res = np.array(list(zip(y,x)))\n",
    "        if len(x) < 1000 :\n",
    "            continue\n",
    "        cv2.fillPoly(out, pts =[res], color=(255,255,255))\n",
    "        \n",
    "    return out\n",
    "\n",
    "def ExtractItem (lb,key,img):\n",
    "    out = np.zeros_like(im_bw)\n",
    "    x,y = np.where(lb==key,)\n",
    "    res = np.array(list(zip(y,x)))\n",
    "    if len(x) < 1500 or key == 0 :\n",
    "        return False,False\n",
    "    cv2.fillPoly(out, pts =[res], color=(255,255,255))\n",
    "    result = cv2.bitwise_and(img,img,out)\n",
    "    xm,xM = min(x),max(x)\n",
    "    ym,yM = min(y),max(y)\n",
    "    return True,result[xm:xM,ym:yM]\n",
    "    \n",
    "    \n",
    "    \n",
    "num_labels, labels_im = cv2.connectedComponents(im_bw)\n",
    "counter = collections.Counter(labels_im.flatten())\n",
    "counter = dict(sorted(counter.items(), key=lambda item: item[1]))\n",
    "filled = RegFiller(counter,labels_im)\n",
    "imshow(filled,\"Region filling based on connected components\")\n",
    "\n",
    "\n",
    "num_labels, labels_im = cv2.connectedComponents(filled)\n",
    "counter = collections.Counter(labels_im.flatten())\n",
    "counter = dict(sorted(counter.items(), key=lambda item: item[1]))\n",
    "\n",
    "i = 1\n",
    "Items = []\n",
    "for key in counter:\n",
    "    if key == 0 :\n",
    "        continue\n",
    "    state,res = ExtractItem(labels_im,key,img)\n",
    "    if state :\n",
    "        plt.subplot(3,6,i)\n",
    "        imshow (res,\"Item #{0}\".format(i),False)\n",
    "        Items.append(res)\n",
    "        i+=1\n",
    "        \n",
    "plt.show()"
   ]
  },
  {
   "cell_type": "code",
   "execution_count": null,
   "metadata": {},
   "outputs": [],
   "source": [
    "def Compare(img_1:np.array,img_2:np.array):\n",
    "    img_1 = img_1.astype(np.uint8)\n",
    "    img_2 = img_2.astype(np.uint8)\n",
    "    img1_new = cv2.resize(img_1,img_2.shape[::-1],interpolation=cv2.INTER_CUBIC)\n",
    "    orb = cv2.ORB_create(nfeatures=F)\n",
    "    _, des1 = orb.detectAndCompute(img1_new, None)\n",
    "    _, des2 = orb.detectAndCompute(img_2, None)\n",
    "\n",
    "\n",
    "    bf = cv2.BFMatcher(cv2.NORM_HAMMING, crossCheck=True)\n",
    "    matches = bf.match(des1, des2)\n",
    "    matches = sorted(matches, key=lambda x: x.distance)\n",
    "\n",
    "    return len(matches)\n",
    "plt.rcParams['figure.figsize'] = [21, 14]"
   ]
  },
  {
   "cell_type": "markdown",
   "metadata": {},
   "source": [
    "### #b"
   ]
  },
  {
   "cell_type": "code",
   "execution_count": null,
   "metadata": {},
   "outputs": [],
   "source": [
    "def search(flag=None,_name=[]):\n",
    "    counts = np.zeros(shape=(12,))\n",
    "    _li = []\n",
    "    _sco = []\n",
    "    _org_index = []\n",
    "    for index in range(len(Items)):\n",
    "        score = -np.inf\n",
    "        I = -1\n",
    "        for i in range(12):\n",
    "            _c = Compare(Items[index],ORGINAL_ITEMS[i])\n",
    "            if _c > score :\n",
    "                score = _c \n",
    "                I = i \n",
    "        \n",
    "        counts[I] += 1 \n",
    "        if flag == I:\n",
    "            _li.append(index)\n",
    "            _sco.append(score)\n",
    "            _org_index.append(I)\n",
    "            \n",
    "        if len(_name) != 0 :\n",
    "            for n in _name :\n",
    "                if n in Name[I]:\n",
    "                    _li.append(index)\n",
    "                    _sco.append(score)\n",
    "                    _org_index.append(I)\n",
    "        \n",
    "    if flag is not None :\n",
    "        return _li,_sco,_org_index\n",
    "    \n",
    "    return counts \n",
    "\n",
    "plt.rcParams['figure.figsize'] = [12,8]\n",
    "\n",
    "_indexes,_scorses,_ = search(-1,[\"Tiny\"])\n",
    "for i in range(len(_indexes)):\n",
    "    plt.subplot(1,3,i+1)\n",
    "    tmp = Items[_indexes[i]]\n",
    "    name = Name[_indexes[i]]\n",
    "    score = _scorses[i]\n",
    "    imshow(tmp,\"Recognized as Tiny with score: {0}/{1}\".format(score,F),False)\n",
    "plt.tight_layout()\n",
    "plt.show()\n",
    "    "
   ]
  },
  {
   "cell_type": "markdown",
   "metadata": {},
   "source": [
    "### #c"
   ]
  },
  {
   "cell_type": "code",
   "execution_count": null,
   "metadata": {},
   "outputs": [],
   "source": [
    "plt.rcParams['figure.figsize'] = [12,6]\n",
    "_indexes,_scorses,_org_index = search(-1,[\"drink\"])\n",
    "\n",
    "p = 0 \n",
    "for i in range(len(_indexes)):\n",
    "    plt.subplot(1,3,i+1)\n",
    "    tmp = Items[_indexes[i]]\n",
    "    name = Name[_org_index[i]].split(\"-\")[0]\n",
    "    score = _scorses[i]\n",
    "    p+= Prices[_org_index[i]]\n",
    "    imshow(tmp,\"Recognized {2}, Total Cost: {3}KT\".format(score,F,name,p),False)\n",
    "    \n",
    "plt.tight_layout()\n",
    "plt.show()\n",
    "    "
   ]
  },
  {
   "cell_type": "markdown",
   "metadata": {},
   "source": [
    "### #d"
   ]
  },
  {
   "cell_type": "code",
   "execution_count": null,
   "metadata": {},
   "outputs": [],
   "source": [
    "\n",
    "plt.rcParams['figure.figsize'] = [12,8]\n",
    "\n",
    "_indexes,_scorses,_ = search(-1,[\"Mihan\"])\n",
    "cnt = 0\n",
    "p = 0 \n",
    "for i in range(len(_indexes)):\n",
    "    plt.subplot(2,2,i+1)\n",
    "    tmp = Items[_indexes[i]]\n",
    "    name = Name[_[i]].split(\"-\")[0]\n",
    "    score = _scorses[i]\n",
    "    p+= Prices[_[i]]*1000\n",
    "    cnt +=1\n",
    "    imshow(tmp,\"Recognized {2}, Total Cost: {3}, cnt:{4}\".format(score,F,name,p,cnt),False)\n",
    "plt.tight_layout()\n",
    "plt.show()"
   ]
  },
  {
   "cell_type": "markdown",
   "metadata": {},
   "source": [
    "### #e"
   ]
  },
  {
   "cell_type": "code",
   "execution_count": null,
   "metadata": {},
   "outputs": [],
   "source": [
    "plt.rcParams['figure.figsize'] = [26, 14]\n",
    "_indexes,_scorses,_ = search(-1,Name)\n",
    "cnt = 0\n",
    "p = 0 \n",
    "for i in range(len(_indexes)):\n",
    "    plt.subplot(3,6,i+1)\n",
    "    tmp = Items[_indexes[i]]\n",
    "    \n",
    "    name = Name[_[i]].split(\"-\")[0]\n",
    "    score = _scorses[i]\n",
    "    p+= Prices[_[i]]\n",
    "    cnt +=1\n",
    "    imshow(tmp,\"{2}:{5}KT, Total Price: {3}KT({4})\".format(score,F,name,p,cnt,float(Prices[_[i]])),False)\n",
    "plt.tight_layout()\n",
    "plt.show()"
   ]
  },
  {
   "cell_type": "code",
   "execution_count": null,
   "metadata": {},
   "outputs": [],
   "source": []
  }
 ],
 "metadata": {
  "kernelspec": {
   "display_name": "Python 3",
   "language": "python",
   "name": "python3"
  },
  "language_info": {
   "codemirror_mode": {
    "name": "ipython",
    "version": 3
   },
   "file_extension": ".py",
   "mimetype": "text/x-python",
   "name": "python",
   "nbconvert_exporter": "python",
   "pygments_lexer": "ipython3",
   "version": "3.8.2"
  },
  "vscode": {
   "interpreter": {
    "hash": "de57e28909dfb2671530bae44b33e2be109b3d90a9cd64e4fc6cd39e7a53a3db"
   }
  }
 },
 "nbformat": 4,
 "nbformat_minor": 2
}
